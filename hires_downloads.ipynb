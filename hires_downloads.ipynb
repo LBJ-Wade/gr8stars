{
 "cells": [
  {
   "cell_type": "code",
   "execution_count": 21,
   "metadata": {},
   "outputs": [],
   "source": [
    "import numpy as np\n",
    "import matplotlib.pyplot as plt\n",
    "from astropy.table import Table, vstack\n",
    "from astropy import units as u\n",
    "from pykoa.koa import Koa\n",
    "from tqdm.auto import tqdm\n",
    "import os"
   ]
  },
  {
   "cell_type": "code",
   "execution_count": 14,
   "metadata": {},
   "outputs": [],
   "source": [
    "sample_file = 'Gr8stars_GaiaeDR3_formatted.csv'\n",
    "hires_obs_file = 'koa_out/all.csv'\n",
    "koa_dir = 'koa_out/'"
   ]
  },
  {
   "cell_type": "code",
   "execution_count": 15,
   "metadata": {},
   "outputs": [],
   "source": [
    "sample = Table.read(sample_file)\n",
    "hires_obs = Table.read(hires_obs_file)"
   ]
  },
  {
   "cell_type": "markdown",
   "metadata": {},
   "source": [
    "#### generate the list of targets for KOA online query:"
   ]
  },
  {
   "cell_type": "code",
   "execution_count": 18,
   "metadata": {},
   "outputs": [],
   "source": [
    "koa_upload_file = 'hires_targets.csv'\n",
    "with open(koa_upload_file, 'w') as f:\n",
    "    f.write('object,ra,dec\\n')\n",
    "    for s in sample:\n",
    "        if s['spectrum_hires'] == 'true':\n",
    "            f.write('{0},{1:.16f},{2:.16f}\\n'.format(s['primary_name'], s['ra_j2000'], s['dec_j2000']))"
   ]
  },
  {
   "cell_type": "raw",
   "metadata": {},
   "source": [
    "for s in sample[0:200]:\n",
    "    if s['spectrum_hires'] == 'true':\n",
    "        print(s['primary_name'], s['spectrum_hires_resolution'], s['spectrum_hires_snr'], s['spectrum_hires_nobs'])"
   ]
  },
  {
   "cell_type": "markdown",
   "metadata": {},
   "source": [
    "Now go to the Keck Online Archive and execute a search query for HIRES iodine-out science observations with a 30\" match to that uploaded CSV of targets. Download all along with associated extracted data.  -- or not! That requires individually clicking through to each target in the table."
   ]
  },
  {
   "cell_type": "markdown",
   "metadata": {},
   "source": [
    "#### generate the list of observations:"
   ]
  },
  {
   "cell_type": "markdown",
   "metadata": {},
   "source": [
    "Compile a list of all *maximum spectral resolution* iodine-out spectra"
   ]
  },
  {
   "cell_type": "code",
   "execution_count": 25,
   "metadata": {},
   "outputs": [],
   "source": [
    "good_mask = (hires_obs['iodout']=='T') & (hires_obs['specres'] >= 60000) & (hires_obs['imagetyp'] == 'object')\n",
    "#obs_to_download = hires_obs[good_mask]\n",
    "obs_to_download = Table()\n",
    "for s in sample:\n",
    "    if s['spectrum_hires'] == 'true':\n",
    "        object_mask = hires_obs['EDR3Name'] == 'Gaia EDR3 {0}'.format(s['gaiaedr3_source_id'])\n",
    "        object_obs = hires_obs[good_mask & object_mask]\n",
    "        max_res = np.max(object_obs['specres'])\n",
    "        object_obs_maxres = object_obs[object_obs['specres'] == max_res]\n",
    "        obs_to_download = vstack([obs_to_download, object_obs_maxres])"
   ]
  },
  {
   "cell_type": "code",
   "execution_count": 32,
   "metadata": {},
   "outputs": [
    {
     "name": "stdout",
     "output_type": "stream",
     "text": [
      "     ra_j2000         dec_j2000     ... spectrum_hires_snr spectrum_hires_nobs\n",
      "----------------- ----------------- ... ------------------ -------------------\n",
      " 12.2446148226657    16.94064566139 ...  276.1575637204239                  22\n",
      " 20.4963072108962  76.7102884073774 ...  417.4422115694578                  15\n",
      " 23.6386033050351  68.9481359765662 ...   553.991877196769                  35\n",
      " 29.7776387485117  33.2096831446174 ... 415.00843364924526                  15\n",
      " 69.4205434010559  52.8936147114007 ...  382.7035406159708                  10\n",
      " 75.2041639384368  -5.7536734242199 ...  631.1465756858703                  47\n",
      " 98.3025934962235   5.4629245923217 ...  685.1488889285306                  39\n",
      " 99.8811807081115  24.6001634821241 ...  220.5153055912446                  11\n",
      "103.8277764975233  25.3756954298746 ...  237.1729326883656                  10\n",
      "124.5997790343364 -12.6321714409806 ...  407.1387969722365                  24\n",
      "167.7715498153977  30.4460175603138 ...  348.1407761236825                  11\n",
      "172.9372673302097  14.3645029762197 ... 374.35811731549245                  18\n",
      "176.4262202809204   2.8214789273813 ...  775.0683840797533                  44\n",
      "217.4033698838139  41.7959126217874 ... 325.76371805343825                  12\n",
      "241.2366400821768  39.1565096060435 ...  362.3437594329451                  10\n",
      "273.8852641704789  45.2093168861321 ... 285.34014789370246                  10\n",
      "278.4823836300258  51.7191382723017 ...  318.7867625859016                  17\n",
      "284.2568193182871  32.9013190797591 ... 305.72863784735637                  10\n",
      "308.2151752896465  41.8984862722029 ... 264.76404589747455                  11\n",
      "314.9803156032379  40.2588214868811 ... 231.37847782367314                  11\n",
      "331.7527729590751  25.3450989962377 ... 292.66704631714174                  29\n",
      "341.8828238153524  83.6970283913988 ... 396.11993133393327                  18\n",
      "352.8425364299075  59.1655188336237 ... 430.83407478981974                  15\n"
     ]
    }
   ],
   "source": [
    "print(sample[sample['spectrum_hires_nobs'] >= 10])"
   ]
  },
  {
   "cell_type": "code",
   "execution_count": 31,
   "metadata": {},
   "outputs": [
    {
     "data": {
      "text/html": [
       "<i>Table length=2</i>\n",
       "<table id=\"table140381395855056\" class=\"table-striped table-bordered table-condensed\">\n",
       "<thead><tr><th>ra_j2000</th><th>dec_j2000</th><th>primary_name</th><th>gaiadr2_source_id</th><th>gaiaedr3_source_id</th><th>hip</th><th>hd</th><th>tic</th><th>2mass</th><th>wisea</th><th>ra</th><th>ra_error</th><th>dec</th><th>dec_error</th><th>parallax</th><th>parallax_error</th><th>pmra</th><th>pmra_error</th><th>pmdec</th><th>pmdec_error</th><th>gmag</th><th>bp_rp</th><th>radial_velocity</th><th>radial_velocity_error</th><th>ref_epoch</th><th>gaia_teff</th><th>gaia_teff_lower</th><th>gaia_teff_upper</th><th>gaia_radius</th><th>gaia_radius_lower</th><th>gaia_radius_upper</th><th>gaia_lum</th><th>gaia_lum_lower</th><th>gaia_lum_upper</th><th>spectrum_hires</th><th>spectrum_hires_resolution</th><th>spectrum_hires_snr</th><th>spectrum_hires_nobs</th></tr></thead>\n",
       "<thead><tr><th>float64</th><th>float64</th><th>str29</th><th>int64</th><th>int64</th><th>int64</th><th>str7</th><th>int64</th><th>str16</th><th>str19</th><th>float64</th><th>float64</th><th>float64</th><th>float64</th><th>float64</th><th>float64</th><th>float64</th><th>float64</th><th>float64</th><th>float64</th><th>float64</th><th>float64</th><th>float64</th><th>float64</th><th>str7</th><th>float64</th><th>float64</th><th>float64</th><th>float64</th><th>float64</th><th>float64</th><th>float64</th><th>float64</th><th>float64</th><th>str4</th><th>float64</th><th>float64</th><th>int64</th></tr></thead>\n",
       "<tr><td>133.1492129350178</td><td>28.3308208317972</td><td>rho Cnc</td><td>704967037090946688</td><td>704967037090946688</td><td>43587</td><td>75732</td><td>332064670</td><td>08523579+2819509</td><td>--</td><td>133.14676062083</td><td>0.0299</td><td>28.32978300036</td><td>0.0198</td><td>79.4482</td><td>0.0429</td><td>-485.681</td><td>0.04</td><td>-233.517</td><td>0.037</td><td>5.732681</td><td>1.008672</td><td>27.26</td><td>0.14</td><td>J2016.0</td><td>5306.0</td><td>5153.64990234375</td><td>5547.0</td><td>0.9463781118392944</td><td>0.8659300804138184</td><td>1.0031579732894897</td><td>0.639577329158783</td><td>0.6387168169021606</td><td>0.6404378414154053</td><td>true</td><td>229700.0</td><td>224.06918574404648</td><td>5</td></tr>\n",
       "<tr><td>293.0899592077505</td><td>69.6611766125574</td><td>61 Dra</td><td>2261614264930275072</td><td>2261614264931057664</td><td>96100</td><td>185144</td><td>259237827</td><td>19322153+6939413</td><td>--</td><td>293.09759805108</td><td>0.0754</td><td>69.65345106255</td><td>0.0708</td><td>173.4939</td><td>0.0748</td><td>597.384</td><td>0.115</td><td>-1738.286</td><td>0.102</td><td>4.449041</td><td>0.994315</td><td>26.58</td><td>0.16</td><td>J2016.0</td><td>5450.5</td><td>5137.0</td><td>5924.0</td><td>0.7520942687988281</td><td>0.636670708656311</td><td>0.8466927409172058</td><td>0.4497639834880829</td><td>0.4479914605617523</td><td>0.45153650641441345</td><td>true</td><td>229700.0</td><td>180.2387305769767</td><td>3</td></tr>\n",
       "</table>"
      ],
      "text/plain": [
       "<Table length=2>\n",
       "     ra_j2000        dec_j2000     ... spectrum_hires_snr spectrum_hires_nobs\n",
       "     float64          float64      ...      float64              int64       \n",
       "----------------- ---------------- ... ------------------ -------------------\n",
       "133.1492129350178 28.3308208317972 ... 224.06918574404648                   5\n",
       "293.0899592077505 69.6611766125574 ...  180.2387305769767                   3"
      ]
     },
     "execution_count": 31,
     "metadata": {},
     "output_type": "execute_result"
    }
   ],
   "source": [
    "sample[sample['spectrum_hires_resolution'] >= 103000]"
   ]
  },
  {
   "cell_type": "code",
   "execution_count": 34,
   "metadata": {},
   "outputs": [],
   "source": [
    "obs_to_download.write('hires_observations.csv', overwrite=True)"
   ]
  },
  {
   "cell_type": "code",
   "execution_count": 37,
   "metadata": {},
   "outputs": [
    {
     "data": {
      "text/plain": [
       "1116"
      ]
     },
     "execution_count": 37,
     "metadata": {},
     "output_type": "execute_result"
    }
   ],
   "source": [
    "len(obs_to_download)"
   ]
  },
  {
   "cell_type": "markdown",
   "metadata": {},
   "source": [
    "#### set up subdirectories for the data:"
   ]
  },
  {
   "cell_type": "code",
   "execution_count": 39,
   "metadata": {},
   "outputs": [],
   "source": [
    "for s in sample:\n",
    "    if s['spectrum_hires'] == 'true':        \n",
    "        object_dir = './hires/{0}'.format(s['primary_name'])\n",
    "        metatable = object_dir+'/obs.csv'\n",
    "        \n",
    "        try:  # make the directory\n",
    "            os.mkdir(object_dir)\n",
    "        except FileExistsError:\n",
    "            pass\n",
    "        \n",
    "        # store the koaids for the corresponding observations in each subdirectory\n",
    "        these_obs = obs_to_download[obs_to_download['EDR3Name'] == 'Gaia EDR3 {0}'.format(s['gaiaedr3_source_id'])]\n",
    "        these_obs.write(metatable, overwrite=True) # populate it with names of observations to be copied over"
   ]
  }
 ],
 "metadata": {
  "kernelspec": {
   "display_name": "gr8stars",
   "language": "python",
   "name": "gr8stars"
  },
  "language_info": {
   "codemirror_mode": {
    "name": "ipython",
    "version": 3
   },
   "file_extension": ".py",
   "mimetype": "text/x-python",
   "name": "python",
   "nbconvert_exporter": "python",
   "pygments_lexer": "ipython3",
   "version": "3.7.8"
  }
 },
 "nbformat": 4,
 "nbformat_minor": 4
}
