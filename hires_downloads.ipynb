{
 "cells": [
  {
   "cell_type": "code",
   "execution_count": 1,
   "metadata": {},
   "outputs": [],
   "source": [
    "import numpy as np\n",
    "import matplotlib.pyplot as plt\n",
    "from astropy.table import Table\n",
    "from astropy import units as u\n",
    "from pykoa.koa import Koa\n",
    "from tqdm.auto import tqdm\n",
    "import os"
   ]
  },
  {
   "cell_type": "code",
   "execution_count": 2,
   "metadata": {},
   "outputs": [],
   "source": [
    "sample_file = 'Gr8stars_GaiaeDR3_formatted.csv'\n",
    "hires_obs_file = 'koa_out/all.csv'\n",
    "koa_dir = 'koa_out/'"
   ]
  },
  {
   "cell_type": "code",
   "execution_count": 3,
   "metadata": {},
   "outputs": [],
   "source": [
    "sample = Table.read(sample_file)\n",
    "hires_obs = Table.read(hires_obs_file)"
   ]
  },
  {
   "cell_type": "markdown",
   "metadata": {},
   "source": [
    "#### generate the list of targets for KOA online query:"
   ]
  },
  {
   "cell_type": "code",
   "execution_count": 5,
   "metadata": {},
   "outputs": [],
   "source": [
    "koa_upload_file = 'koa_upload_file.csv'\n",
    "with open(koa_upload_file, 'w') as f:\n",
    "    f.write('object,ra,dec\\n')\n",
    "    for s in sample:\n",
    "        if s['spectrum_hires'] == 'true':\n",
    "            f.write('{0},{1:.16f},{2:.16f}\\n'.format(s['primary_name'], s['ra_j2000'], s['dec_j2000']))"
   ]
  },
  {
   "cell_type": "raw",
   "metadata": {},
   "source": [
    "for s in sample[0:200]:\n",
    "    if s['spectrum_hires'] == 'true':\n",
    "        print(s['primary_name'], s['spectrum_hires_resolution'], s['spectrum_hires_snr'], s['spectrum_hires_nobs'])"
   ]
  },
  {
   "cell_type": "markdown",
   "metadata": {},
   "source": [
    "#### set up subdirectories for the data:"
   ]
  },
  {
   "cell_type": "code",
   "execution_count": null,
   "metadata": {},
   "outputs": [],
   "source": [
    "for s in sample:\n",
    "    if s['spectrum_hires'] == 'true':\n",
    "        object_obs = Table.read(koa_dir+'Gaia_EDR3_{0}.tbl'.format(s['gaiaedr3_source_id']), format='ascii')\n",
    "        good_mask = (object_obs['iodout']=='T') & (object_obs['specres'] >= 60000) & (object_obs['imagetyp'] == 'object')\n",
    "        good_object_obs = object_obs[good_mask]\n",
    "        \n",
    "        object_dir = './hires/{0}'.format(name)\n",
    "        metatable = object_dir+'/obs.csv'\n",
    "        \n",
    "        try:  # make the directory\n",
    "            os.mkdir('./hires/{0}'.format(name))\n",
    "        except FileExistsError:\n",
    "            pass\n",
    "        good_object_obs.write(metatable, overwrite=True) # populate it with names of observations to be copied over"
   ]
  },
  {
   "cell_type": "markdown",
   "metadata": {},
   "source": [
    "#### copy the relevant data over into each subdirectory:"
   ]
  },
  {
   "cell_type": "code",
   "execution_count": null,
   "metadata": {},
   "outputs": [],
   "source": []
  }
 ],
 "metadata": {
  "kernelspec": {
   "display_name": "gr8stars",
   "language": "python",
   "name": "gr8stars"
  },
  "language_info": {
   "codemirror_mode": {
    "name": "ipython",
    "version": 3
   },
   "file_extension": ".py",
   "mimetype": "text/x-python",
   "name": "python",
   "nbconvert_exporter": "python",
   "pygments_lexer": "ipython3",
   "version": "3.7.8"
  }
 },
 "nbformat": 4,
 "nbformat_minor": 4
}
