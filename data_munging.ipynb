{
 "cells": [
  {
   "cell_type": "code",
   "execution_count": 1,
   "metadata": {},
   "outputs": [
    {
     "name": "stdout",
     "output_type": "stream",
     "text": [
      "Created TAP+ (v1.2.1) - Connection:\n",
      "\tHost: gea.esac.esa.int\n",
      "\tUse HTTPS: True\n",
      "\tPort: 443\n",
      "\tSSL Port: 443\n",
      "Created TAP+ (v1.2.1) - Connection:\n",
      "\tHost: geadata.esac.esa.int\n",
      "\tUse HTTPS: True\n",
      "\tPort: 443\n",
      "\tSSL Port: 443\n"
     ]
    }
   ],
   "source": [
    "import numpy as np\n",
    "import matplotlib.pyplot as plt\n",
    "from astropy.table import Table, vstack, Column, join\n",
    "from astropy import units as u\n",
    "from astroquery.simbad import Simbad\n",
    "from astroquery.gaia import Gaia\n",
    "import time"
   ]
  },
  {
   "cell_type": "code",
   "execution_count": 2,
   "metadata": {},
   "outputs": [],
   "source": [
    "sample = Table.read('Gr8stars_GaiaeDR3_TIC_hires.csv')\n",
    "sample.sort(['_RAJ2000','_DEJ2000'])"
   ]
  },
  {
   "cell_type": "code",
   "execution_count": 3,
   "metadata": {},
   "outputs": [],
   "source": [
    "table = sample['_RAJ2000', '_DEJ2000']\n",
    "table.rename_column('_RAJ2000', 'ra_j2000')\n",
    "table.rename_column('_DEJ2000', 'dec_j2000')"
   ]
  },
  {
   "cell_type": "code",
   "execution_count": 4,
   "metadata": {},
   "outputs": [],
   "source": [
    "# names:\n",
    "table['primary_name'] = sample['EDR3Name'] # CHANGE THIS LATER\n",
    "table['gaiadr2_source_id'] = sample['GAIA']\n",
    "table['gaiaedr3_source_id'] = sample['Source']\n",
    "table['hip'] = sample['HIP']\n",
    "#table['hip'][table['hip'] < 0] = np.nan # replace -1s with nans\n",
    "table.add_column(Column(name='hd', dtype='<U29', length=len(table)))\n",
    "table['tic'] = sample['TIC']\n",
    "table['2mass'] = sample['2MASS']\n",
    "table['2mass'][table['2mass']=='--'] = '' # replace --s with empty\n",
    "table['wisea'] = sample['WISEA']\n",
    "table['wisea'][table['wisea']=='--'] = '' # replace --s with empty\n"
   ]
  },
  {
   "cell_type": "code",
   "execution_count": 5,
   "metadata": {},
   "outputs": [],
   "source": [
    "# gaia:\n",
    "table['ra'] = sample['RA_ICRS']\n",
    "table['ra_error'] = sample['e_RA_ICRS']\n",
    "table['dec'] = sample['DE_ICRS']\n",
    "table['dec_error'] = sample['e_DE_ICRS']\n",
    "table['parallax'] = sample['Plx']\n",
    "table['parallax_error'] = sample['e_Plx']\n",
    "table['pmra'] = sample['pmRA']\n",
    "table['pmra_error'] = sample['e_pmRA']\n",
    "table['pmdec'] = sample['pmDE']\n",
    "table['pmdec_error'] = sample['e_pmDE']\n",
    "table['gmag'] = sample['Gmag']\n",
    "table['bp_rp'] = sample['BPRP']\n",
    "table['radial_velocity'] = sample['RVDR2']\n",
    "table['radial_velocity_error'] = sample['e_RVDR2']\n",
    "table['ref_epoch'] = 'J2016.0'"
   ]
  },
  {
   "cell_type": "markdown",
   "metadata": {},
   "source": [
    "### add SIMBAD alternative identifiers:"
   ]
  },
  {
   "cell_type": "code",
   "execution_count": 6,
   "metadata": {},
   "outputs": [],
   "source": [
    "# correct some failed matches by hand (ugh):\n",
    "# for most of these the TIC x-match failed, therefore SIMBAD does not include the TIC ID\n",
    "# in three cases there is no Gaia DR2 ID so HIP, 2MASS, WISEA must also be copied as SIMBAD query on DR2 ID will fail\n",
    "table['tic'][table['gaiaedr3_source_id'] == 411413822074322432] = 252191219\n",
    "table['gaiadr2_source_id'][table['gaiaedr3_source_id'] == 411413822074322432] = 411413822074322432\n",
    "table['tic'][table['gaiaedr3_source_id'] == 883596170039715072] = 101637926\n",
    "table['gaiadr2_source_id'][table['gaiaedr3_source_id'] == 883596170039715072] = 883596170039715072\n",
    "table['tic'][table['gaiaedr3_source_id'] == 1030087329727496320] = 459753450\n",
    "table['hip'][table['gaiaedr3_source_id'] == 1030087329727496320] = 43630  # from TIC\n",
    "table['2mass'][table['gaiaedr3_source_id'] == 1030087329727496320] = '08530805+5457112'  # from TIC\n",
    "table['wisea'][table['gaiaedr3_source_id'] == 1030087329727496320] = 'J085308.10+545711.5'  # from TIC\n",
    "table['tic'][table['gaiaedr3_source_id'] == 3890250298609911168] = 63189338\n",
    "table['hip'][table['gaiaedr3_source_id'] == 3890250298609911168] = 51145  # from TIC\n",
    "table['2mass'][table['gaiaedr3_source_id'] == 3890250298609911168] = '10265302+1713099'  # from TIC\n",
    "table['wisea'][table['gaiaedr3_source_id'] == 3890250298609911168] = 'J102652.99+171309.1'  # from TIC\n",
    "table['tic'][table['gaiaedr3_source_id'] == 762815470562110464] = 166646191 # this one is ALSO TIC 353969903\n",
    "table['hip'][table['gaiaedr3_source_id'] == 762815470562110464] = 54035  # from TIC\n",
    "table['2mass'][table['gaiaedr3_source_id'] == 762815470562110464] = '11032027+3558203'  # from TIC\n",
    "table['wisea'][table['gaiaedr3_source_id'] == 762815470562110464] = 'J110319.67+355722.4'  # from SIMBAD\n",
    "table['tic'][table['gaiaedr3_source_id'] == 778947814402602752] = 252803603\n",
    "table['gaiadr2_source_id'][table['gaiaedr3_source_id'] == 778947814402602752] = 778947814402405120\n",
    "table['tic'][table['gaiaedr3_source_id'] == 4445793563751403264] = 276883893 # magnitude changed considerably DR2 to eDR3 hence failed checks but seems ok to me\n",
    "table['gaiadr2_source_id'][table['gaiaedr3_source_id'] == 4445793563751403264] = 4445793563749783424\n",
    "table['tic'][table['gaiaedr3_source_id'] == 4468557611984384512] = 398120047\n",
    "table['gaiadr2_source_id'][table['gaiaedr3_source_id'] == 4468557611984384512] = 4468557611977678336"
   ]
  },
  {
   "cell_type": "raw",
   "metadata": {},
   "source": [
    "for t in table[np.isin(table['primary_name'].data,simbad_failed) & (table['tic'] != -1)]:\n",
    "    print(\"'Gaia DR2 {0}': 'HIP {1}',\".format(t['gaiadr2_source_id'], t['hip']))"
   ]
  },
  {
   "cell_type": "code",
   "execution_count": 7,
   "metadata": {},
   "outputs": [],
   "source": [
    "# more failed matches by hand:\n",
    "# these all have correct TIC x-match but TIC and DR2 IDs are not ingested properly in SIMBAD\n",
    "# so we'll query on an alternative identifier\n",
    "weird_ones_map = {'Gaia DR2 386648181647057152':'HD 225291A',\n",
    "                 'Gaia DR2 2551241944269355776': 'HD 3972A',\n",
    "                 'Gaia DR2 417565761431676288': 'HIP 3585',\n",
    "                 'Gaia DR2 2572433347264096768': 'HIP 8110',\n",
    "                 'Gaia DR2 90783037268826368': 'HIP 9434',  # bright double\n",
    "                 'Gaia DR2 139281533098990336': 'HD 19771',  # bright double\n",
    "                 'Gaia DR2 450345089271313536': 'HD 21903',  # bright double\n",
    "                 'Gaia DR2 2989285658784560640': 'HIP 23951',  # bright double\n",
    "                 'Gaia DR2 3235618049144649984': 'HD 33866',\n",
    "                 'Gaia DR2 3319596479531147392': 'HD 38767',  # bright double\n",
    "                 'Gaia DR2 3049638303010222080': 'HD 52590',\n",
    "                 'Gaia DR2 901953203859813888': 'HD 67501A',  # co-moving twin pair?\n",
    "                 'Gaia DR2 901953199567368960': 'HD 67501B',  # co-moving twin pair?\n",
    "                 'Gaia DR2 903616971110812544': 'HD 71974',  # bright double\n",
    "                 'Gaia DR2 811174736439695232': 'HD 80441', # bright double\n",
    "                 'Gaia DR2 3850860191466194688': 'HD 82267',\n",
    "                 'Gaia DR2 1070274204844445056': 'HIP 49230',\n",
    "                 'Gaia DR2 746691643641649536': 'HIP 49315',\n",
    "                 'Gaia DR2 4022691525057422208': 'HIP 56054',\n",
    "                 'Gaia DR2 1466569467151572992': 'HD 114723',  # bright double ?\n",
    "                 'Gaia DR2 1603382317472430080': 'HIP 71109',\n",
    "                 'Gaia DR2 1186325496788069632': 'HD 131473',  # bright double\n",
    "                 'Gaia DR2 4409032079673958528': 'HIP 78024',\n",
    "                 'Gaia DR2 1191393008443719808': 'TYC 956-1098-1',  # HD 143597. no survey other than Tycho and Gaia resolves them\n",
    "                 'Gaia DR2 1191393008441035648': 'TYC 956-1098-2',  # HD 143597\n",
    "                 'Gaia DR2 4148904396147803136': 'HD 162739',  # duplicated in TIC as TIC 207281346\n",
    "                 'Gaia DR2 4185205008718146048': 'HD 179518',  # this HD is TIC as 6990809 with a different DR2 ID but no Gaia info, diff V mag ??\n",
    "                 'Gaia DR2 4516054074788081152': 'HD 180054',  # duplicated in TIC as TIC 352587633\n",
    "                 'Gaia DR2 2087620020176419072': 'HIP 99388',\n",
    "                 'Gaia DR2 1804783160869679872': 'HIP 101315',\n",
    "                 'Gaia DR2 1731257443928035200': 'HIP 104047',\n",
    "                 'Gaia DR2 1787693589076214016': 'HD 205160B',  # associated twin stars w slightly different PMRA?\n",
    "                 'Gaia DR2 1787693589076213632': 'HD 205160A',  # associated twin stars w slightly different PMRA?\n",
    "                 'Gaia DR2 2681975358571981312': 'HD 209965',  # bright double\n",
    "                 'Gaia DR2 1929623635232510208': 'HIP 112722',\n",
    "                 'Gaia DR2 2643881159024617088': 'HIP 115891'}"
   ]
  },
  {
   "cell_type": "raw",
   "metadata": {},
   "source": [
    "# primary name:\n",
    "\n",
    "simbad_failed = []\n",
    "maybe_double = []\n",
    "for i,t in enumerate(table):\n",
    "    if i%5 == 0:\n",
    "        time.sleep(0.5) # wait 0.5 s to avoid borking simbad\n",
    "    if i%100 == 0:\n",
    "        print('{0}/{1} complete'.format(i,len(table)))\n",
    "    name = 'Gaia DR2 '+str(t['gaiadr2_source_id'])\n",
    "    if name in weird_ones_map:\n",
    "        result = Simbad.query_objectids(weird_ones_map[name])\n",
    "    else:\n",
    "        result = Simbad.query_objectids(name)\n",
    "    if result is None:\n",
    "        simbad_failed.append(t['primary_name'])\n",
    "        continue\n",
    "    for r in result:\n",
    "        if ('HD' in r[0]) & ('HDS' not in r[0]):\n",
    "            table['hd'][i] = r[0].split()[1]\n",
    "            table['primary_name'][i] = 'HD'+r[0].split()[1]\n",
    "        elif 'HIP' in r[0]:\n",
    "            if table['hip'][i] != int(r[0].split()[1]): # TESS x-match fail\n",
    "                #print('WARNING: replacing ID HIP {0} with HIP {1} for row {2}'.format(table['hip'][i],\n",
    "                #        r[0].split()[1], i))\n",
    "                table['hip'][i] = r[0].split()[1]\n",
    "        elif 'WISEA' in r[0]:\n",
    "            if table['wisea'][i] != r[0].split()[1] or table['wisea'].mask[i]: # TESS x-match fail\n",
    "                table['wisea'][i] = r[0].split()[1]\n",
    "        elif '2MASS' in r[0]:\n",
    "            if (table['2mass'][i] != r[0].split()[1][1:]) or table['2mass'].mask[i]: # TESS x-match fail\n",
    "                table['2mass'][i] = r[0].split()[1][1:] # clip off the initial J for consistency\n",
    "    for r in result:\n",
    "        if r[0][:2] == '**':\n",
    "            maybe_double.append(t['primary_name'])\n",
    "        elif r[0][0] == '*':\n",
    "            table['primary_name'][i] = r[0][1:].strip() # string magic\n",
    "            continue # take only the first * name        "
   ]
  },
  {
   "cell_type": "raw",
   "metadata": {},
   "source": [
    "simbad_failed = np.array(simbad_failed)\n",
    "maybe_double = np.unique(maybe_double)\n",
    "\n",
    "print(len(simbad_failed), len(maybe_double))"
   ]
  },
  {
   "cell_type": "raw",
   "metadata": {},
   "source": [
    "table.write('Gr8stars_GaiaeDR3_formatted-names.csv', overwrite=True)"
   ]
  },
  {
   "cell_type": "code",
   "execution_count": 8,
   "metadata": {},
   "outputs": [],
   "source": [
    "# hacky alternative to rerunning all the simbad code:\n",
    "table2 = Table.read('Gr8stars_GaiaeDR3_formatted-names.csv')\n",
    "table2.sort(['ra_j2000','dec_j2000'])\n",
    "table['hd'] = table2['hd']\n",
    "table['primary_name'] = table2['primary_name']"
   ]
  },
  {
   "cell_type": "markdown",
   "metadata": {},
   "source": [
    "### add Gaia DR2:"
   ]
  },
  {
   "cell_type": "code",
   "execution_count": 9,
   "metadata": {},
   "outputs": [
    {
     "name": "stdout",
     "output_type": "stream",
     "text": [
      "Launched query: 'SELECT TOP 5000 * FROM tap_upload.tbl AS tbl, gaiadr2.gaia_source AS gaia WHERE tbl.gaiadr2_source_id=gaia.source_id'\n",
      "------>https\n",
      "host = gea.esac.esa.int:443\n",
      "context = /tap-server/tap/sync\n",
      "Content-type = multipart/form-data; boundary====1625749584722===\n",
      "200 200\n",
      "[('Date', 'Thu, 08 Jul 2021 13:06:25 GMT'), ('Server', 'Apache/2.4.6 (CentOS) OpenSSL/1.0.2k-fips PHP/5.4.16 mod_jk/1.2.43'), ('Cache-Control', 'no-cache, no-store, max-age=0, must-revalidate'), ('Pragma', 'no-cache'), ('Expires', '0'), ('X-XSS-Protection', '1; mode=block'), ('X-Frame-Options', 'SAMEORIGIN'), ('X-Content-Type-Options', 'nosniff'), ('Set-Cookie', 'JSESSIONID=D8C35B29184F812DD2D115482FEA5C82; Path=/tap-server; Secure; HttpOnly'), ('Content-Encoding', 'gzip'), ('Content-Disposition', 'attachment;filename=\"1625749585325O-result.vot\"'), ('Transfer-Encoding', 'chunked'), ('Content-Type', 'application/x-votable+xml')]\n",
      "Retrieving sync. results...\n",
      "Query finished.\n"
     ]
    }
   ],
   "source": [
    "# gaia DR2:\n",
    "table['primary_name','gaiadr2_source_id'].write('gaiadr2.vot', format='votable', overwrite=True)  # write out the DR2 source_ids\n",
    "#Gaia.ROW_LIMIT = 5000\n",
    "query = \"SELECT TOP 5000 * FROM tap_upload.tbl AS tbl, gaiadr2.gaia_source AS gaia WHERE tbl.gaiadr2_source_id=gaia.source_id\"\n",
    "j = Gaia.launch_job(query=query, upload_resource='gaiadr2.vot', \n",
    "                    upload_table_name=\"tbl\", verbose=True)\n",
    "r = j.get_results()"
   ]
  },
  {
   "cell_type": "code",
   "execution_count": 10,
   "metadata": {},
   "outputs": [
    {
     "data": {
      "text/plain": [
       "<TableColumns names=('primary_name','gaiadr2_source_id','solution_id','designation','source_id','random_index','ref_epoch','ra','ra_error','dec','dec_error','parallax','parallax_error','parallax_over_error','pmra','pmra_error','pmdec','pmdec_error','ra_dec_corr','ra_parallax_corr','ra_pmra_corr','ra_pmdec_corr','dec_parallax_corr','dec_pmra_corr','dec_pmdec_corr','parallax_pmra_corr','parallax_pmdec_corr','pmra_pmdec_corr','astrometric_n_obs_al','astrometric_n_obs_ac','astrometric_n_good_obs_al','astrometric_n_bad_obs_al','astrometric_gof_al','astrometric_chi2_al','astrometric_excess_noise','astrometric_excess_noise_sig','astrometric_params_solved','astrometric_primary_flag','astrometric_weight_al','astrometric_pseudo_colour','astrometric_pseudo_colour_error','mean_varpi_factor_al','astrometric_matched_observations','visibility_periods_used','astrometric_sigma5d_max','frame_rotator_object_type','matched_observations','duplicated_source','phot_g_n_obs','phot_g_mean_flux','phot_g_mean_flux_error','phot_g_mean_flux_over_error','phot_g_mean_mag','phot_bp_n_obs','phot_bp_mean_flux','phot_bp_mean_flux_error','phot_bp_mean_flux_over_error','phot_bp_mean_mag','phot_rp_n_obs','phot_rp_mean_flux','phot_rp_mean_flux_error','phot_rp_mean_flux_over_error','phot_rp_mean_mag','phot_bp_rp_excess_factor','phot_proc_mode','bp_rp','bp_g','g_rp','radial_velocity','radial_velocity_error','rv_nb_transits','rv_template_teff','rv_template_logg','rv_template_fe_h','phot_variable_flag','l','b','ecl_lon','ecl_lat','priam_flags','teff_val','teff_percentile_lower','teff_percentile_upper','a_g_val','a_g_percentile_lower','a_g_percentile_upper','e_bp_min_rp_val','e_bp_min_rp_percentile_lower','e_bp_min_rp_percentile_upper','flame_flags','radius_val','radius_percentile_lower','radius_percentile_upper','lum_val','lum_percentile_lower','lum_percentile_upper','datalink_url')>"
      ]
     },
     "execution_count": 10,
     "metadata": {},
     "output_type": "execute_result"
    }
   ],
   "source": [
    "r.columns"
   ]
  },
  {
   "cell_type": "code",
   "execution_count": 11,
   "metadata": {},
   "outputs": [],
   "source": [
    "dr2_table = r['gaiadr2_source_id', 'teff_val']\n",
    "dr2_table.rename_column('teff_val', 'gaia_teff')\n",
    "dr2_table['gaia_teff_lower'] = r['teff_percentile_lower']\n",
    "dr2_table['gaia_teff_upper'] = r['teff_percentile_upper']\n",
    "dr2_table['gaia_radius'] = r['radius_val']\n",
    "dr2_table['gaia_radius_lower'] = r['radius_percentile_lower']\n",
    "dr2_table['gaia_radius_upper'] = r['radius_percentile_upper']\n",
    "dr2_table['gaia_lum'] = r['lum_val']\n",
    "dr2_table['gaia_lum_lower'] = r['lum_percentile_lower']\n",
    "dr2_table['gaia_lum_upper'] = r['lum_percentile_upper']"
   ]
  },
  {
   "cell_type": "code",
   "execution_count": 12,
   "metadata": {},
   "outputs": [],
   "source": [
    "table_with_dr2 = join(table, dr2_table, keys='gaiadr2_source_id', join_type='left')"
   ]
  },
  {
   "cell_type": "code",
   "execution_count": 13,
   "metadata": {},
   "outputs": [],
   "source": [
    "assert len(table_with_dr2) == len(table)"
   ]
  },
  {
   "cell_type": "code",
   "execution_count": 14,
   "metadata": {},
   "outputs": [],
   "source": [
    "table_with_dr2.sort(['ra_j2000','dec_j2000']) # get it in the same order as sample\n",
    "for i in np.random.randint(0,len(table),42):\n",
    "    #print(table[i], table_with_dr2[i])\n",
    "    assert table[i]['gaiadr2_source_id'] == table_with_dr2[i]['gaiadr2_source_id']"
   ]
  },
  {
   "cell_type": "code",
   "execution_count": 15,
   "metadata": {},
   "outputs": [],
   "source": [
    "table = table_with_dr2"
   ]
  },
  {
   "cell_type": "markdown",
   "metadata": {},
   "source": [
    "### add hires info:"
   ]
  },
  {
   "cell_type": "code",
   "execution_count": 16,
   "metadata": {},
   "outputs": [],
   "source": [
    "#table.remove_column('spectrum_hires') # where did this come from?"
   ]
  },
  {
   "cell_type": "code",
   "execution_count": 17,
   "metadata": {},
   "outputs": [],
   "source": [
    "# spectra:\n",
    "table.add_column(Column(name='spectrum_hires', dtype='<U29', length=len(table)))\n",
    "table['spectrum_hires_resolution'] = sample['hires_maxres']\n",
    "table['spectrum_hires_snr'] = sample['hires_maxres_snr']\n",
    "table['spectrum_hires_nobs'] = sample['n_hires_obs_maxres_iodout']"
   ]
  },
  {
   "cell_type": "code",
   "execution_count": 18,
   "metadata": {},
   "outputs": [],
   "source": [
    "# add a link:\n",
    "MIN_SNR = 100 # if combined SNR is below this limit, ignore the spectra\n",
    "table['spectrum_hires'][sample['hires_maxres_snr'] >= MIN_SNR] = 'true'\n",
    "bad = sample['hires_maxres_snr'] < MIN_SNR\n",
    "table['spectrum_hires_resolution'][bad] = 0\n",
    "table['spectrum_hires_nobs'][bad] = 0\n",
    "table['spectrum_hires_snr'][bad] = 0"
   ]
  },
  {
   "cell_type": "markdown",
   "metadata": {},
   "source": [
    "### write it out:"
   ]
  },
  {
   "cell_type": "code",
   "execution_count": 19,
   "metadata": {},
   "outputs": [
    {
     "data": {
      "text/html": [
       "<i>Row index=17</i>\n",
       "<table id=\"table140446197299344\">\n",
       "<thead><tr><th>ra_j2000</th><th>dec_j2000</th><th>primary_name</th><th>gaiadr2_source_id</th><th>gaiaedr3_source_id</th><th>hip</th><th>hd</th><th>tic</th><th>2mass</th><th>wisea</th><th>ra</th><th>ra_error</th><th>dec</th><th>dec_error</th><th>parallax</th><th>parallax_error</th><th>pmra</th><th>pmra_error</th><th>pmdec</th><th>pmdec_error</th><th>gmag</th><th>bp_rp</th><th>radial_velocity</th><th>radial_velocity_error</th><th>ref_epoch</th><th>gaia_teff</th><th>gaia_teff_lower</th><th>gaia_teff_upper</th><th>gaia_radius</th><th>gaia_radius_lower</th><th>gaia_radius_upper</th><th>gaia_lum</th><th>gaia_lum_lower</th><th>gaia_lum_upper</th><th>spectrum_hires</th><th>spectrum_hires_resolution</th><th>spectrum_hires_snr</th><th>spectrum_hires_nobs</th></tr></thead>\n",
       "<thead><tr><th></th><th></th><th></th><th></th><th></th><th></th><th></th><th></th><th></th><th></th><th></th><th></th><th></th><th></th><th></th><th></th><th></th><th></th><th></th><th></th><th></th><th></th><th></th><th></th><th></th><th>K</th><th>K</th><th>K</th><th>Rsun</th><th>Rsun</th><th>Rsun</th><th>Lsun</th><th>Lsun</th><th>Lsun</th><th></th><th></th><th></th><th></th></tr></thead>\n",
       "<thead><tr><th>float64</th><th>float64</th><th>str29</th><th>int64</th><th>int64</th><th>int64</th><th>str7</th><th>int64</th><th>str16</th><th>str19</th><th>float64</th><th>float64</th><th>float64</th><th>float64</th><th>float64</th><th>float64</th><th>float64</th><th>float64</th><th>float64</th><th>float64</th><th>float64</th><th>float64</th><th>float64</th><th>float64</th><th>str7</th><th>float32</th><th>float32</th><th>float32</th><th>float32</th><th>float32</th><th>float32</th><th>float32</th><th>float32</th><th>float32</th><th>str29</th><th>float64</th><th>float64</th><th>int64</th></tr></thead>\n",
       "<tr><td>2.1705774156078</td><td>36.6271256247555</td><td>HD400</td><td>2877522230262577024</td><td>2877522230262577024</td><td>-1</td><td>400</td><td>612002469</td><td>--</td><td>--</td><td>2.16994537178</td><td>0.017</td><td>36.62657221496</td><td>0.0112</td><td>30.6686</td><td>0.0252</td><td>-114.128</td><td>0.026</td><td>-124.518</td><td>0.015</td><td>6.082332</td><td>0.675087</td><td>-15.1</td><td>0.15</td><td>J2016.0</td><td>6221.5</td><td>6140.1333</td><td>6295.0</td><td>1.4688498</td><td>1.4347496</td><td>1.508037</td><td>2.9122581</td><td>2.9054701</td><td>2.9190462</td><td></td><td>0.0</td><td>0.0</td><td>0</td></tr>\n",
       "</table>"
      ],
      "text/plain": [
       "<Row index=17>\n",
       "    ra_j2000       dec_j2000     primary_name  gaiadr2_source_id   gaiaedr3_source_id  hip   hd     tic    2mass wisea       ra      ra_error      dec       dec_error parallax parallax_error   pmra   pmra_error  pmdec   pmdec_error   gmag    bp_rp   radial_velocity radial_velocity_error ref_epoch gaia_teff gaia_teff_lower gaia_teff_upper gaia_radius gaia_radius_lower gaia_radius_upper  gaia_lum gaia_lum_lower gaia_lum_upper spectrum_hires spectrum_hires_resolution spectrum_hires_snr spectrum_hires_nobs\n",
       "                                                                                                                                                                                                                                                                                                              K            K               K            Rsun           Rsun              Rsun          Lsun        Lsun           Lsun                                                                                     \n",
       "    float64         float64         str29            int64               int64        int64 str7   int64   str16 str19    float64    float64     float64      float64  float64     float64     float64   float64   float64    float64   float64  float64      float64            float64           str7    float32      float32         float32       float32        float32           float32       float32     float32        float32         str29               float64               float64              int64       \n",
       "--------------- ---------------- ------------ ------------------- ------------------- ----- ---- --------- ----- ----- ------------- -------- -------------- --------- -------- -------------- -------- ---------- -------- ----------- -------- -------- --------------- --------------------- --------- --------- --------------- --------------- ----------- ----------------- ----------------- --------- -------------- -------------- -------------- ------------------------- ------------------ -------------------\n",
       "2.1705774156078 36.6271256247555        HD400 2877522230262577024 2877522230262577024    -1  400 612002469    --    -- 2.16994537178    0.017 36.62657221496    0.0112  30.6686         0.0252 -114.128      0.026 -124.518       0.015 6.082332 0.675087           -15.1                  0.15   J2016.0    6221.5       6140.1333          6295.0   1.4688498         1.4347496          1.508037 2.9122581      2.9054701      2.9190462                                      0.0                0.0                   0"
      ]
     },
     "execution_count": 19,
     "metadata": {},
     "output_type": "execute_result"
    }
   ],
   "source": [
    "table[17]"
   ]
  },
  {
   "cell_type": "code",
   "execution_count": 20,
   "metadata": {},
   "outputs": [],
   "source": [
    "table.write('Gr8stars_GaiaeDR3_formatted.csv', overwrite=True)"
   ]
  },
  {
   "cell_type": "markdown",
   "metadata": {},
   "source": [
    "#### debug etc:"
   ]
  },
  {
   "cell_type": "raw",
   "metadata": {},
   "source": [
    "table = Table.read('Gr8stars_GaiaeDR3_formatted.csv')"
   ]
  },
  {
   "cell_type": "code",
   "execution_count": 21,
   "metadata": {},
   "outputs": [
    {
     "ename": "NameError",
     "evalue": "name 'simbad_failed' is not defined",
     "output_type": "error",
     "traceback": [
      "\u001b[0;31m---------------------------------------------------------------------------\u001b[0m",
      "\u001b[0;31mNameError\u001b[0m                                 Traceback (most recent call last)",
      "\u001b[0;32m<ipython-input-21-9acab2d4b6aa>\u001b[0m in \u001b[0;36m<module>\u001b[0;34m\u001b[0m\n\u001b[0;32m----> 1\u001b[0;31m \u001b[0mtable\u001b[0m\u001b[0;34m[\u001b[0m\u001b[0mnp\u001b[0m\u001b[0;34m.\u001b[0m\u001b[0misin\u001b[0m\u001b[0;34m(\u001b[0m\u001b[0mtable\u001b[0m\u001b[0;34m[\u001b[0m\u001b[0;34m'primary_name'\u001b[0m\u001b[0;34m]\u001b[0m\u001b[0;34m.\u001b[0m\u001b[0mdata\u001b[0m\u001b[0;34m,\u001b[0m\u001b[0msimbad_failed\u001b[0m\u001b[0;34m)\u001b[0m\u001b[0;34m]\u001b[0m\u001b[0;34m\u001b[0m\u001b[0;34m\u001b[0m\u001b[0m\n\u001b[0m",
      "\u001b[0;31mNameError\u001b[0m: name 'simbad_failed' is not defined"
     ]
    }
   ],
   "source": [
    "table[np.isin(table['primary_name'].data,simbad_failed)]"
   ]
  },
  {
   "cell_type": "code",
   "execution_count": null,
   "metadata": {},
   "outputs": [],
   "source": []
  }
 ],
 "metadata": {
  "kernelspec": {
   "display_name": "gr8stars",
   "language": "python",
   "name": "gr8stars"
  },
  "language_info": {
   "codemirror_mode": {
    "name": "ipython",
    "version": 3
   },
   "file_extension": ".py",
   "mimetype": "text/x-python",
   "name": "python",
   "nbconvert_exporter": "python",
   "pygments_lexer": "ipython3",
   "version": "3.7.8"
  }
 },
 "nbformat": 4,
 "nbformat_minor": 4
}
