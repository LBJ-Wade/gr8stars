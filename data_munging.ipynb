{
 "cells": [
  {
   "cell_type": "code",
   "execution_count": 1,
   "metadata": {},
   "outputs": [],
   "source": [
    "import numpy as np\n",
    "import matplotlib.pyplot as plt\n",
    "from astropy.table import Table, vstack\n",
    "from astropy import units as u"
   ]
  },
  {
   "cell_type": "code",
   "execution_count": 2,
   "metadata": {},
   "outputs": [],
   "source": [
    "sample = Table.read('Gr8stars_GaiaeDR3_TIC_hires.csv')"
   ]
  },
  {
   "cell_type": "code",
   "execution_count": 3,
   "metadata": {},
   "outputs": [
    {
     "data": {
      "text/html": [
       "<i>Table length=3</i>\n",
       "<table id=\"table140627248355536\" class=\"table-striped table-bordered table-condensed\">\n",
       "<thead><tr><th>_RAJ2000</th><th>_DEJ2000</th><th>EDR3Name</th><th>RA_ICRS</th><th>e_RA_ICRS</th><th>DE_ICRS</th><th>e_DE_ICRS</th><th>Source</th><th>Plx</th><th>e_Plx</th><th>pmRA</th><th>e_pmRA</th><th>pmDE</th><th>e_pmDE</th><th>Nper</th><th>RUWE</th><th>FG</th><th>e_FG</th><th>Gmag</th><th>e_Gmag</th><th>FBP</th><th>e_FBP</th><th>BPmag</th><th>e_BPmag</th><th>FRP</th><th>e_FRP</th><th>RPmag</th><th>e_RPmag</th><th>EBPRP</th><th>BPRP</th><th>RVDR2</th><th>e_RVDR2</th><th>Tefftemp</th><th>loggtemp</th><th>FeHtemp</th><th>PS1</th><th>SDSSDR13</th><th>SkyMapper2</th><th>URAT1</th><th>GmagCorr</th><th>e_GmagCorr</th><th>FGCorr</th><th>EBPRPCorr</th><th>RAJ2000</th><th>e_RAJ2000</th><th>DEJ2000</th><th>e_DEJ2000</th><th>_RAJ2000_1</th><th>_DEJ2000_1</th><th>TIC</th><th>RAJ2000_1</th><th>DEJ2000_1</th><th>HIP</th><th>TYC</th><th>UCAC4</th><th>2MASS</th><th>objID</th><th>WISEA</th><th>GAIA</th><th>APASS</th><th>KIC</th><th>SG</th><th>Ref</th><th>r_Pos</th><th>pmRA_1</th><th>e_pmRA_1</th><th>pmDE_1</th><th>e_pmDE_1</th><th>r_pm</th><th>Plx_1</th><th>e_Plx_1</th><th>r_Plx</th><th>GLON</th><th>GLAT</th><th>ELON</th><th>ELAT</th><th>Bmag</th><th>e_Bmag</th><th>u_e_Bmag</th><th>Vmag</th><th>e_Vmag</th><th>u_e_Vmag</th><th>umag</th><th>e_umag</th><th>gmag</th><th>e_gmag</th><th>rmag</th><th>e_rmag</th><th>imag</th><th>e_imag</th><th>zmag</th><th>e_zmag</th><th>Jmag</th><th>e_Jmag</th><th>Hmag</th><th>e_Hmag</th><th>Kmag</th><th>e_Kmag</th><th>q_2MASS</th><th>W1mag</th><th>e_W1mag</th><th>W2mag</th><th>e_W2mag</th><th>W3mag</th><th>e_W3mag</th><th>W4mag</th><th>e_W4mag</th><th>Gmag_1</th><th>e_Gmag_1</th><th>Tmag</th><th>e_Tmag</th><th>f_Tmag</th><th>Flag</th><th>Teff</th><th>s_Teff</th><th>logg</th><th>s_logg</th><th>MH</th><th>e_MH</th><th>Rad</th><th>s_Rad</th><th>Mass</th><th>s_Mass</th><th>rho</th><th>s_rho</th><th>LClass</th><th>Lum</th><th>s_Lum</th><th>Dist</th><th>s_Dist</th><th>EBV</th><th>s_EBV</th><th>Ncont</th><th>Rcont</th><th>Disp</th><th>m_TIC</th><th>Prior</th><th>e_EBV</th><th>E_EBV</th><th>f_EBV</th><th>e_Mass</th><th>E_Mass</th><th>e_Rad</th><th>E_Rad</th><th>e_rho</th><th>E_rho</th><th>e_logg</th><th>E_logg</th><th>e_Lum</th><th>E_Lum</th><th>e_Dist</th><th>E_Dist</th><th>r_Dist</th><th>e_Teff</th><th>E_Teff</th><th>r_Teff</th><th>BPmag_1</th><th>e_BPmag_1</th><th>RPmag_1</th><th>e_RPmag_1</th><th>q_Gaia</th><th>r_Vmag</th><th>r_Bmag</th><th>Clist</th><th>e_RAJ2000_1</th><th>e_DEJ2000_1</th><th>RAOdeg</th><th>DEOdeg</th><th>e_RAOdeg</th><th>e_DEOdeg</th><th>RadFl</th><th>WDFl</th><th>ID</th><th>Sloan</th><th>n_hires_obs_all</th><th>n_hires_obs_iodout</th><th>hires_snr</th><th>hires_maxres</th><th>n_hires_obs_maxres_iodout</th><th>hires_maxres_snr</th></tr></thead>\n",
       "<thead><tr><th>float64</th><th>float64</th><th>str29</th><th>float64</th><th>float64</th><th>float64</th><th>float64</th><th>int64</th><th>float64</th><th>float64</th><th>float64</th><th>float64</th><th>float64</th><th>float64</th><th>int64</th><th>float64</th><th>float64</th><th>float64</th><th>float64</th><th>float64</th><th>float64</th><th>float64</th><th>float64</th><th>float64</th><th>float64</th><th>float64</th><th>float64</th><th>float64</th><th>float64</th><th>float64</th><th>float64</th><th>float64</th><th>float64</th><th>float64</th><th>float64</th><th>int64</th><th>int64</th><th>int64</th><th>int64</th><th>float64</th><th>float64</th><th>float64</th><th>float64</th><th>float64</th><th>float64</th><th>float64</th><th>float64</th><th>float64</th><th>float64</th><th>int64</th><th>float64</th><th>float64</th><th>int64</th><th>str12</th><th>str10</th><th>str16</th><th>int64</th><th>str19</th><th>int64</th><th>int64</th><th>int64</th><th>str4</th><th>str7</th><th>str7</th><th>float64</th><th>float64</th><th>float64</th><th>float64</th><th>str6</th><th>float64</th><th>float64</th><th>str5</th><th>float64</th><th>float64</th><th>float64</th><th>float64</th><th>float64</th><th>float64</th><th>int64</th><th>float64</th><th>float64</th><th>int64</th><th>float64</th><th>float64</th><th>float64</th><th>float64</th><th>float64</th><th>float64</th><th>float64</th><th>float64</th><th>float64</th><th>float64</th><th>float64</th><th>float64</th><th>float64</th><th>float64</th><th>float64</th><th>float64</th><th>str19</th><th>float64</th><th>float64</th><th>float64</th><th>float64</th><th>float64</th><th>float64</th><th>float64</th><th>float64</th><th>float64</th><th>float64</th><th>float64</th><th>float64</th><th>str5</th><th>str5</th><th>float64</th><th>float64</th><th>float64</th><th>float64</th><th>float64</th><th>float64</th><th>float64</th><th>float64</th><th>float64</th><th>float64</th><th>float64</th><th>float64</th><th>str5</th><th>float64</th><th>float64</th><th>float64</th><th>float64</th><th>float64</th><th>float64</th><th>int64</th><th>float64</th><th>str5</th><th>str5</th><th>float64</th><th>float64</th><th>float64</th><th>str9</th><th>float64</th><th>float64</th><th>float64</th><th>float64</th><th>float64</th><th>float64</th><th>float64</th><th>float64</th><th>float64</th><th>float64</th><th>float64</th><th>float64</th><th>str6</th><th>float64</th><th>float64</th><th>str6</th><th>float64</th><th>float64</th><th>float64</th><th>float64</th><th>int64</th><th>str8</th><th>str8</th><th>str13</th><th>float64</th><th>float64</th><th>float64</th><th>float64</th><th>float64</th><th>float64</th><th>int64</th><th>int64</th><th>int64</th><th>str5</th><th>int64</th><th>int64</th><th>int64</th><th>float64</th><th>int64</th><th>float64</th></tr></thead>\n",
       "<tr><td>41.5608721605419</td><td>5.5925913340762</td><td>Gaia EDR3 6478258087046528</td><td>41.56120683549</td><td>0.0204</td><td>5.59239346316</td><td>0.0187</td><td>6478258087046528</td><td>17.5306</td><td>0.0239</td><td>74.943</td><td>0.025</td><td>-44.521</td><td>0.023</td><td>15</td><td>0.965</td><td>14901000.0</td><td>7644.3</td><td>7.754348</td><td>0.002811</td><td>8553300.0</td><td>15579.0</td><td>8.008211</td><td>0.00342</td><td>9250000.0</td><td>16715.0</td><td>7.332537</td><td>0.004258</td><td>1.195</td><td>0.675674</td><td>6.05</td><td>0.94</td><td>6250.0</td><td>4.5</td><td>-0.25</td><td>-1</td><td>1237670015123456040</td><td>-1</td><td>478010437</td><td>7.754348</td><td>0.002811</td><td>14901000.0</td><td>0.004</td><td>41.56087215996</td><td>0.3943</td><td>5.59259133442</td><td>0.3768</td><td>41.5608716480211</td><td>5.5925905296155</td><td>318841562</td><td>41.56087164802</td><td>5.59259052962</td><td>12925</td><td>0053-01184-1</td><td>478-004112</td><td>02461462+0535333</td><td>-1</td><td>J024614.64+053532.7</td><td>6478258087046528</td><td>38122243</td><td>-1</td><td>STAR</td><td>tmgaia2</td><td>tmgaia2</td><td>75.059</td><td>0.087</td><td>-44.335</td><td>0.091</td><td>gaia2</td><td>17.5166</td><td>0.0545</td><td>gaia2</td><td>167.52548808968</td><td>-47.09519869347</td><td>40.87665792668</td><td>-9.9752554377</td><td>8.368</td><td>0.016</td><td>0</td><td>7.88</td><td>0.03</td><td>0</td><td>nan</td><td>nan</td><td>nan</td><td>nan</td><td>nan</td><td>nan</td><td>nan</td><td>nan</td><td>nan</td><td>nan</td><td>6.859</td><td>0.035</td><td>6.632</td><td>0.051</td><td>6.517</td><td>0.036</td><td>AAA-111-111-000-0-0</td><td>6.466</td><td>0.071</td><td>6.39</td><td>0.025</td><td>6.494</td><td>0.015</td><td>6.383</td><td>0.068</td><td>7.74137</td><td>0.000811</td><td>7.377</td><td>0.006</td><td>gbprp</td><td>spect</td><td>6143.0</td><td>124.8</td><td>4.3304</td><td>0.078</td><td>nan</td><td>nan</td><td>1.219</td><td>0.054</td><td>1.16</td><td>0.155</td><td>0.6402</td><td>0.1395</td><td>DWARF</td><td>1.90692</td><td>0.06361</td><td>56.9954</td><td>0.1783</td><td>nan</td><td>nan</td><td>34</td><td>0.0124</td><td>--</td><td>False</td><td>0.004519</td><td>nan</td><td>nan</td><td>--</td><td>0.13</td><td>0.18</td><td>0.053</td><td>0.054</td><td>0.1116</td><td>0.1675</td><td>0.0618</td><td>0.0941</td><td>0.04722</td><td>0.08</td><td>0.1778</td><td>0.1788</td><td>bj2018</td><td>150.1</td><td>99.5</td><td>spect</td><td>8.03108</td><td>0.003429</td><td>7.34148</td><td>0.003406</td><td>1</td><td>hipvmag</td><td>apassdr9</td><td>--</td><td>1.34381440126</td><td>1.411456771</td><td>41.56119636609</td><td>5.59239964333</td><td>0.04583211778</td><td>0.03991938701</td><td>1</td><td>0</td><td>38567162</td><td>Sloan</td><td>2</td><td>0</td><td>0</td><td>0.0</td><td>0</td><td>0.0</td></tr>\n",
       "<tr><td>45.9617289426184</td><td>6.1333013502295</td><td>Gaia EDR3 6963761190199424</td><td>45.9627666464</td><td>0.0238</td><td>6.13352285232</td><td>0.0225</td><td>6963761190199424</td><td>31.9791</td><td>0.0285</td><td>232.147</td><td>0.03</td><td>49.838</td><td>0.026</td><td>14</td><td>1.268</td><td>36134000.0</td><td>10244.0</td><td>6.792566</td><td>0.002772</td><td>20442000.0</td><td>11507.0</td><td>7.062214</td><td>0.002856</td><td>22802000.0</td><td>16142.0</td><td>6.352973</td><td>0.003857</td><td>1.197</td><td>0.709241</td><td>24.68</td><td>0.2</td><td>6250.0</td><td>4.5</td><td>-0.25</td><td>-1</td><td>1237667229302194319</td><td>-1</td><td>481011595</td><td>6.792566</td><td>0.002772</td><td>36134000.0</td><td>0.004</td><td>45.96172892922</td><td>0.4803</td><td>6.13330134737</td><td>0.4247</td><td>45.9617293262721</td><td>6.1333014799003</td><td>365294034</td><td>45.96172932627</td><td>6.1333014799</td><td>14258</td><td>0061-00481-1</td><td>481-004297</td><td>03035081+0607598</td><td>-1</td><td>J030350.97+060800.4</td><td>6963761190199424</td><td>38123136</td><td>-1</td><td>STAR</td><td>tmgaia2</td><td>tmgaia2</td><td>232.053</td><td>0.142</td><td>49.804</td><td>0.155</td><td>gaia2</td><td>31.8837</td><td>0.0704</td><td>gaia2</td><td>171.76122213364</td><td>-43.83269192886</td><td>45.29359741173</td><td>-10.73634393907</td><td>7.474</td><td>0.023</td><td>0</td><td>6.92</td><td>0.023</td><td>0</td><td>nan</td><td>nan</td><td>nan</td><td>nan</td><td>nan</td><td>nan</td><td>nan</td><td>nan</td><td>nan</td><td>nan</td><td>5.882</td><td>0.029</td><td>5.645</td><td>0.071</td><td>5.57</td><td>0.016</td><td>AAA-111-111-000-0-0</td><td>5.542</td><td>0.198</td><td>5.43</td><td>0.052</td><td>5.599</td><td>0.016</td><td>5.544</td><td>0.044</td><td>6.77527</td><td>0.000435</td><td>6.394</td><td>0.006</td><td>gbprp</td><td>spect</td><td>6096.0</td><td>134.3</td><td>4.4423</td><td>0.0833</td><td>-0.03</td><td>0.1</td><td>1.063</td><td>0.051</td><td>1.14</td><td>0.155</td><td>0.9503</td><td>0.2137</td><td>DWARF</td><td>1.40467</td><td>0.04245</td><td>31.3358</td><td>0.0697</td><td>nan</td><td>nan</td><td>29</td><td>0.0007</td><td>--</td><td>False</td><td>0.006579</td><td>nan</td><td>nan</td><td>--</td><td>0.14</td><td>0.171</td><td>0.05</td><td>0.052</td><td>0.1865</td><td>0.241</td><td>0.071</td><td>0.0956</td><td>0.05094</td><td>0.03396</td><td>0.0695</td><td>0.0698</td><td>bj2018</td><td>94.6</td><td>173.9</td><td>spect</td><td>7.08367</td><td>0.002332</td><td>6.36117</td><td>0.002628</td><td>1</td><td>sirful</td><td>tycho2b3</td><td>--</td><td>2.20880747442</td><td>2.40019448414</td><td>45.96273419522</td><td>6.13351591559</td><td>0.0480149071</td><td>0.05606915061</td><td>1</td><td>0</td><td>42134839</td><td>Sloan</td><td>31</td><td>5</td><td>322</td><td>71700.0</td><td>5</td><td>322.4298373289916</td></tr>\n",
       "<tr><td>45.1504065574723</td><td>5.9860624232757</td><td>Gaia EDR3 6989290475763456</td><td>45.15352682815</td><td>0.0221</td><td>5.9853594074</td><td>0.0195</td><td>6989290475763456</td><td>30.3219</td><td>0.0256</td><td>698.233</td><td>0.028</td><td>-158.181</td><td>0.023</td><td>16</td><td>1.227</td><td>13035000.0</td><td>2896.7</td><td>7.899625</td><td>0.002766</td><td>6458400.0</td><td>6123.3</td><td>8.313235</td><td>0.002974</td><td>9360800.0</td><td>5511.7</td><td>7.319611</td><td>0.003833</td><td>1.214</td><td>0.993625</td><td>70.99</td><td>0.27</td><td>5250.0</td><td>4.5</td><td>0.25</td><td>-1</td><td>1237670016198770701</td><td>-1</td><td>480011190</td><td>7.899625</td><td>0.002766</td><td>13035000.0</td><td>-0.003</td><td>45.15040644757</td><td>0.4439</td><td>5.98606244804</td><td>0.3669</td><td>45.1504065134518</td><td>5.9860622911636</td><td>347572104</td><td>45.15040651345</td><td>5.98606229116</td><td>14023</td><td>0061-01038-1</td><td>480-004308</td><td>03003613+0559096</td><td>-1</td><td>--</td><td>6989290475763456</td><td>38122974</td><td>-1</td><td>STAR</td><td>tmgaia2</td><td>tmgaia2</td><td>698.247</td><td>0.085</td><td>-158.148</td><td>0.085</td><td>gaia2</td><td>30.2391</td><td>0.0482</td><td>gaia2</td><td>171.06402333051</td><td>-44.48262398274</td><td>44.46375271321</td><td>-10.64886219702</td><td>8.958</td><td>0.071</td><td>0</td><td>8.118</td><td>0.007</td><td>0</td><td>nan</td><td>nan</td><td>nan</td><td>nan</td><td>nan</td><td>nan</td><td>nan</td><td>nan</td><td>nan</td><td>nan</td><td>6.687</td><td>0.026</td><td>6.309</td><td>0.038</td><td>6.192</td><td>0.02</td><td>AAA-111-111-000-0-0</td><td>nan</td><td>nan</td><td>nan</td><td>nan</td><td>nan</td><td>nan</td><td>nan</td><td>nan</td><td>7.88854</td><td>0.000346</td><td>7.37</td><td>0.006</td><td>gbprp</td><td>spect</td><td>5259.0</td><td>138.6</td><td>4.4536</td><td>0.0901</td><td>0.16</td><td>0.1</td><td>0.932</td><td>0.059</td><td>0.9</td><td>0.116</td><td>1.1122</td><td>0.2848</td><td>DWARF</td><td>0.59843</td><td>0.0153</td><td>33.0382</td><td>0.053</td><td>nan</td><td>nan</td><td>28</td><td>0.0002</td><td>--</td><td>False</td><td>0.006806</td><td>nan</td><td>nan</td><td>--</td><td>0.097</td><td>0.135</td><td>0.064</td><td>0.055</td><td>0.2113</td><td>0.3583</td><td>0.0954</td><td>0.0848</td><td>0.01743</td><td>0.01318</td><td>0.0529</td><td>0.0532</td><td>bj2018</td><td>128.1</td><td>149.0</td><td>spect</td><td>8.33185</td><td>0.002235</td><td>7.32953</td><td>0.003584</td><td>1</td><td>mermil</td><td>mermil</td><td>--</td><td>1.31366452959</td><td>1.31142025786</td><td>45.15342933711</td><td>5.98538138447</td><td>0.04136271941</td><td>0.03501212497</td><td>1</td><td>0</td><td>42124300</td><td>Sloan</td><td>28</td><td>2</td><td>53</td><td>71700.0</td><td>2</td><td>53.150729063673246</td></tr>\n",
       "</table>"
      ],
      "text/plain": [
       "<Table length=3>\n",
       "    _RAJ2000         _DEJ2000    ...  hires_maxres_snr \n",
       "    float64          float64     ...      float64      \n",
       "---------------- --------------- ... ------------------\n",
       "41.5608721605419 5.5925913340762 ...                0.0\n",
       "45.9617289426184 6.1333013502295 ...  322.4298373289916\n",
       "45.1504065574723 5.9860624232757 ... 53.150729063673246"
      ]
     },
     "execution_count": 3,
     "metadata": {},
     "output_type": "execute_result"
    }
   ],
   "source": [
    "sample[0:3]"
   ]
  },
  {
   "cell_type": "code",
   "execution_count": 4,
   "metadata": {},
   "outputs": [],
   "source": [
    "table = sample['_RAJ2000', '_DEJ2000']\n",
    "table.rename_column('_RAJ2000', 'ra_j2000')\n",
    "table.rename_column('_DEJ2000', 'dec_j2000')"
   ]
  },
  {
   "cell_type": "code",
   "execution_count": 5,
   "metadata": {},
   "outputs": [],
   "source": [
    "# names:\n",
    "table['primary_name'] = sample['EDR3Name'] # CHANGE THIS LATER\n",
    "table['gaiadr2_source_id'] = sample['GAIA']\n",
    "table['gaiaedr3_source_id'] = sample['Source']\n",
    "table['hip'] = sample['HIP']\n",
    "table['tic'] = sample['TIC']\n",
    "table['2mass'] = sample['2MASS']\n",
    "table['wisea'] = sample['WISEA']"
   ]
  },
  {
   "cell_type": "code",
   "execution_count": 6,
   "metadata": {},
   "outputs": [],
   "source": [
    "# gaia:\n",
    "table['parallax'] = sample['Plx']\n",
    "table['parallax_error'] = sample['e_Plx']\n",
    "table['pmra'] = sample['pmRA']\n",
    "table['pmra_error'] = sample['e_pmRA']\n",
    "table['pmdec'] = sample['pmDE']\n",
    "table['pmdec_error'] = sample['e_pmDE']\n",
    "table['gmag'] = sample['Gmag']\n",
    "table['bp_rp'] = sample['BPRP']\n",
    "table['radial_velocity'] = sample['RVDR2']\n",
    "table['radial_velocity_error'] = sample['e_RVDR2']"
   ]
  },
  {
   "cell_type": "code",
   "execution_count": 7,
   "metadata": {},
   "outputs": [],
   "source": [
    "# spectra:\n",
    "table['spectrum_hires'] = ''\n",
    "table['spectrum_hires_resolution'] = sample['hires_maxres']\n",
    "table['spectrum_hires_snr'] = sample['hires_maxres_snr']\n",
    "table['spectrum_hires_nobs'] = sample['n_hires_obs_maxres_iodout']"
   ]
  },
  {
   "cell_type": "code",
   "execution_count": 8,
   "metadata": {},
   "outputs": [],
   "source": [
    "table['spectrum_hires'][sample['n_hires_obs_iodout'] > 0] = 'y'"
   ]
  },
  {
   "cell_type": "code",
   "execution_count": 11,
   "metadata": {},
   "outputs": [
    {
     "data": {
      "text/html": [
       "<i>Table length=10</i>\n",
       "<table id=\"table140627205325328\" class=\"table-striped table-bordered table-condensed\">\n",
       "<thead><tr><th>ra_j2000</th><th>dec_j2000</th><th>primary_name</th><th>gaiadr2_source_id</th><th>gaiaedr3_source_id</th><th>hip</th><th>tic</th><th>2mass</th><th>wisea</th><th>parallax</th><th>parallax_error</th><th>pmra</th><th>pmra_error</th><th>pmdec</th><th>pmdec_error</th><th>gmag</th><th>bp_rp</th><th>radial_velocity</th><th>radial_velocity_error</th><th>spectrum_hires</th><th>spectrum_hires_resolution</th><th>spectrum_hires_snr</th><th>spectrum_hires_nobs</th></tr></thead>\n",
       "<thead><tr><th>float64</th><th>float64</th><th>str29</th><th>int64</th><th>int64</th><th>int64</th><th>int64</th><th>str16</th><th>str19</th><th>float64</th><th>float64</th><th>float64</th><th>float64</th><th>float64</th><th>float64</th><th>float64</th><th>float64</th><th>float64</th><th>float64</th><th>str1</th><th>float64</th><th>float64</th><th>int64</th></tr></thead>\n",
       "<tr><td>41.5608721605419</td><td>5.5925913340762</td><td>Gaia EDR3 6478258087046528</td><td>6478258087046528</td><td>6478258087046528</td><td>12925</td><td>318841562</td><td>02461462+0535333</td><td>J024614.64+053532.7</td><td>17.5306</td><td>0.0239</td><td>74.943</td><td>0.025</td><td>-44.521</td><td>0.023</td><td>7.754348</td><td>0.675674</td><td>6.05</td><td>0.94</td><td></td><td>0.0</td><td>0.0</td><td>0</td></tr>\n",
       "<tr><td>45.9617289426184</td><td>6.1333013502295</td><td>Gaia EDR3 6963761190199424</td><td>6963761190199424</td><td>6963761190199424</td><td>14258</td><td>365294034</td><td>03035081+0607598</td><td>J030350.97+060800.4</td><td>31.9791</td><td>0.0285</td><td>232.147</td><td>0.03</td><td>49.838</td><td>0.026</td><td>6.792566</td><td>0.709241</td><td>24.68</td><td>0.2</td><td>y</td><td>71700.0</td><td>322.4298373289916</td><td>5</td></tr>\n",
       "<tr><td>45.1504065574723</td><td>5.9860624232757</td><td>Gaia EDR3 6989290475763456</td><td>6989290475763456</td><td>6989290475763456</td><td>14023</td><td>347572104</td><td>03003613+0559096</td><td>--</td><td>30.3219</td><td>0.0256</td><td>698.233</td><td>0.028</td><td>-158.181</td><td>0.023</td><td>7.899625</td><td>0.993625</td><td>70.99</td><td>0.27</td><td>y</td><td>71700.0</td><td>53.150729063673246</td><td>2</td></tr>\n",
       "<tr><td>45.0117163658645</td><td>7.7497551039991</td><td>Gaia EDR3 8479094371605632</td><td>8479094371605632</td><td>8479094371605632</td><td>13976</td><td>387609654</td><td>03000280+0744590</td><td>--</td><td>42.0781</td><td>0.0278</td><td>328.026</td><td>0.032</td><td>21.181</td><td>0.027</td><td>7.719903</td><td>1.103361</td><td>28.64</td><td>0.13</td><td>y</td><td>71700.0</td><td>225.22211259110415</td><td>2</td></tr>\n",
       "<tr><td>52.0543127100169</td><td>7.3022236665417</td><td>Gaia EDR3 9994255754844928</td><td>9994255754669184</td><td>9994255754844928</td><td>16158</td><td>399965184</td><td>03281303+0718080</td><td>J032813.02+071807.1</td><td>11.2177</td><td>0.032</td><td>-14.804</td><td>0.037</td><td>-82.405</td><td>0.03</td><td>7.872291</td><td>0.744398</td><td>-29.51</td><td>0.18</td><td></td><td>0.0</td><td>0.0</td><td>0</td></tr>\n",
       "<tr><td>49.3599428438048</td><td>7.6558109779928</td><td>Gaia EDR3 10584899657116672</td><td>10584899657116672</td><td>10584899657116672</td><td>15304</td><td>445925825</td><td>03172638+0739208</td><td>J031726.49+073920.5</td><td>21.2723</td><td>0.021</td><td>166.357</td><td>0.026</td><td>-6.305</td><td>0.021</td><td>7.265665</td><td>0.714235</td><td>31.35</td><td>0.2</td><td>y</td><td>71700.0</td><td>206.86952409671173</td><td>4</td></tr>\n",
       "<tr><td>49.3865837467127</td><td>7.6901546137745</td><td>Gaia EDR3 10608573516849536</td><td>10608573516849536</td><td>10608573516849536</td><td>15310</td><td>445925813</td><td>03173278+0741245</td><td>J031732.89+074124.4</td><td>21.2261</td><td>0.0218</td><td>168.807</td><td>0.029</td><td>-6.387</td><td>0.022</td><td>7.616955</td><td>0.767401</td><td>31.9</td><td>0.15</td><td>y</td><td>71700.0</td><td>206.86952409671173</td><td>4</td></tr>\n",
       "<tr><td>53.7643841868456</td><td>11.045868704137</td><td>Gaia EDR3 13193284835783552</td><td>13193284835783552</td><td>13193284835783552</td><td>16715</td><td>416720026</td><td>03350345+1102450</td><td>J033503.45+110245.1</td><td>10.2238</td><td>0.0448</td><td>-12.076</td><td>0.048</td><td>-6.731</td><td>0.035</td><td>7.868121</td><td>0.707161</td><td>6.11</td><td>0.26</td><td></td><td>0.0</td><td>0.0</td><td>0</td></tr>\n",
       "<tr><td>48.6967786961401</td><td>8.9807932623103</td><td>Gaia EDR3 14163878724940672</td><td>14163878724940672</td><td>14163878724940672</td><td>15099</td><td>365441779</td><td>03144722+0858509</td><td>--</td><td>43.2649</td><td>0.0252</td><td>400.579</td><td>0.029</td><td>-404.425</td><td>0.023</td><td>7.586812</td><td>1.047251</td><td>-16.92</td><td>0.19</td><td>y</td><td>71700.0</td><td>129.4488315899375</td><td>2</td></tr>\n",
       "<tr><td>49.0130281210778</td><td>11.6284412793238</td><td>Gaia EDR3 17012782071760512</td><td>17012782071760512</td><td>17012782071760512</td><td>15206</td><td>347085338</td><td>03160313+1137424</td><td>J031603.26+113742.3</td><td>11.3335</td><td>0.062</td><td>195.773</td><td>0.054</td><td>-3.441</td><td>0.043</td><td>7.883815</td><td>0.773278</td><td>45.71</td><td>0.23</td><td>y</td><td>71700.0</td><td>139.0</td><td>1</td></tr>\n",
       "</table>"
      ],
      "text/plain": [
       "<Table length=10>\n",
       "    ra_j2000        dec_j2000     ... spectrum_hires_snr spectrum_hires_nobs\n",
       "    float64          float64      ...      float64              int64       \n",
       "---------------- ---------------- ... ------------------ -------------------\n",
       "41.5608721605419  5.5925913340762 ...                0.0                   0\n",
       "45.9617289426184  6.1333013502295 ...  322.4298373289916                   5\n",
       "45.1504065574723  5.9860624232757 ... 53.150729063673246                   2\n",
       "45.0117163658645  7.7497551039991 ... 225.22211259110415                   2\n",
       "52.0543127100169  7.3022236665417 ...                0.0                   0\n",
       "49.3599428438048  7.6558109779928 ... 206.86952409671173                   4\n",
       "49.3865837467127  7.6901546137745 ... 206.86952409671173                   4\n",
       "53.7643841868456  11.045868704137 ...                0.0                   0\n",
       "48.6967786961401  8.9807932623103 ...  129.4488315899375                   2\n",
       "49.0130281210778 11.6284412793238 ...              139.0                   1"
      ]
     },
     "execution_count": 11,
     "metadata": {},
     "output_type": "execute_result"
    }
   ],
   "source": [
    "table[0:10]"
   ]
  },
  {
   "cell_type": "code",
   "execution_count": 12,
   "metadata": {},
   "outputs": [],
   "source": [
    "table.write('Gr8stars_GaiaeDR3_formatted.csv', overwrite=True)"
   ]
  },
  {
   "cell_type": "code",
   "execution_count": null,
   "metadata": {},
   "outputs": [],
   "source": []
  }
 ],
 "metadata": {
  "kernelspec": {
   "display_name": "gr8stars",
   "language": "python",
   "name": "gr8stars"
  },
  "language_info": {
   "codemirror_mode": {
    "name": "ipython",
    "version": 3
   },
   "file_extension": ".py",
   "mimetype": "text/x-python",
   "name": "python",
   "nbconvert_exporter": "python",
   "pygments_lexer": "ipython3",
   "version": "3.7.8"
  }
 },
 "nbformat": 4,
 "nbformat_minor": 4
}
