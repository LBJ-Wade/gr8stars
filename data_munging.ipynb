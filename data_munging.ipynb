{
 "cells": [
  {
   "cell_type": "code",
   "execution_count": 1,
   "metadata": {},
   "outputs": [
    {
     "name": "stdout",
     "output_type": "stream",
     "text": [
      "Created TAP+ (v1.2.1) - Connection:\n",
      "\tHost: gea.esac.esa.int\n",
      "\tUse HTTPS: True\n",
      "\tPort: 443\n",
      "\tSSL Port: 443\n",
      "Created TAP+ (v1.2.1) - Connection:\n",
      "\tHost: geadata.esac.esa.int\n",
      "\tUse HTTPS: True\n",
      "\tPort: 443\n",
      "\tSSL Port: 443\n"
     ]
    }
   ],
   "source": [
    "import numpy as np\n",
    "import matplotlib.pyplot as plt\n",
    "from astropy.table import Table, vstack, Column, join, MaskedColumn\n",
    "from astropy import units as u\n",
    "from astroquery.simbad import Simbad\n",
    "from astroquery.gaia import Gaia\n",
    "import time"
   ]
  },
  {
   "cell_type": "code",
   "execution_count": 2,
   "metadata": {},
   "outputs": [],
   "source": [
    "sample = Table.read('Gr8stars_GaiaeDR3_TIC_hires.csv')\n",
    "sample.sort(['_RAJ2000','_DEJ2000'])"
   ]
  },
  {
   "cell_type": "code",
   "execution_count": 3,
   "metadata": {},
   "outputs": [],
   "source": [
    "table = sample['_RAJ2000', '_DEJ2000']\n",
    "table.rename_column('_RAJ2000', 'ra_j2000')\n",
    "table.rename_column('_DEJ2000', 'dec_j2000')"
   ]
  },
  {
   "cell_type": "code",
   "execution_count": 4,
   "metadata": {},
   "outputs": [],
   "source": [
    "# names:\n",
    "table['primary_name'] = sample['EDR3Name'] # CHANGE THIS LATER\n",
    "table['gaiadr2_source_id'] = sample['GAIA']\n",
    "table['gaiaedr3_source_id'] = sample['Source']\n",
    "table['hip'] = sample['HIP']\n",
    "table.add_column(Column(name='hd', dtype='<U29', length=len(table)))\n",
    "table['tic'] = sample['TIC']\n",
    "table['2mass'] = sample['2MASS']\n",
    "table['wisea'] = sample['WISEA']"
   ]
  },
  {
   "cell_type": "code",
   "execution_count": 5,
   "metadata": {},
   "outputs": [],
   "source": [
    "# gaia:\n",
    "table['ra'] = sample['RA_ICRS']\n",
    "table['ra_error'] = sample['e_RA_ICRS']\n",
    "table['dec'] = sample['DE_ICRS']\n",
    "table['dec_error'] = sample['e_DE_ICRS']\n",
    "table['parallax'] = sample['Plx']\n",
    "table['parallax_error'] = sample['e_Plx']\n",
    "table['pmra'] = sample['pmRA']\n",
    "table['pmra_error'] = sample['e_pmRA']\n",
    "table['pmdec'] = sample['pmDE']\n",
    "table['pmdec_error'] = sample['e_pmDE']\n",
    "table['gmag'] = sample['Gmag']\n",
    "table['bp_rp'] = sample['BPRP']\n",
    "table['radial_velocity'] = sample['RVDR2']\n",
    "table['radial_velocity_error'] = sample['e_RVDR2']\n",
    "table['ref_epoch'] = 'J2016.0'"
   ]
  },
  {
   "cell_type": "markdown",
   "metadata": {},
   "source": [
    "### add SIMBAD alternative identifiers:"
   ]
  },
  {
   "cell_type": "code",
   "execution_count": 6,
   "metadata": {},
   "outputs": [],
   "source": [
    "# correct some failed matches by hand (ugh):\n",
    "# for most of these the TIC x-match failed, therefore SIMBAD does not include the TIC ID\n",
    "# in three cases there is no Gaia DR2 ID so HIP, 2MASS, WISEA must also be copied as SIMBAD query on DR2 ID will fail\n",
    "table['tic'][table['gaiaedr3_source_id'] == 411413822074322432] = 252191219\n",
    "table['gaiadr2_source_id'][table['gaiaedr3_source_id'] == 411413822074322432] = 411413822074322432\n",
    "table['tic'][table['gaiaedr3_source_id'] == 883596170039715072] = 101637926\n",
    "table['gaiadr2_source_id'][table['gaiaedr3_source_id'] == 883596170039715072] = 883596170039715072\n",
    "table['tic'][table['gaiaedr3_source_id'] == 1030087329727496320] = 459753450\n",
    "table['hip'][table['gaiaedr3_source_id'] == 1030087329727496320] = 43630  # from TIC\n",
    "table['2mass'][table['gaiaedr3_source_id'] == 1030087329727496320] = '08530805+5457112'  # from TIC\n",
    "table['wisea'][table['gaiaedr3_source_id'] == 1030087329727496320] = 'J085308.10+545711.5'  # from TIC\n",
    "table['tic'][table['gaiaedr3_source_id'] == 3890250298609911168] = 63189338\n",
    "table['hip'][table['gaiaedr3_source_id'] == 3890250298609911168] = 51145  # from TIC\n",
    "table['2mass'][table['gaiaedr3_source_id'] == 3890250298609911168] = '10265302+1713099'  # from TIC\n",
    "table['wisea'][table['gaiaedr3_source_id'] == 3890250298609911168] = 'J102652.99+171309.1'  # from TIC\n",
    "table['tic'][table['gaiaedr3_source_id'] == 762815470562110464] = 166646191 # this one is ALSO TIC 353969903\n",
    "table['hip'][table['gaiaedr3_source_id'] == 762815470562110464] = 54035  # from TIC\n",
    "table['2mass'][table['gaiaedr3_source_id'] == 762815470562110464] = '11032027+3558203'  # from TIC\n",
    "table['wisea'][table['gaiaedr3_source_id'] == 762815470562110464] = 'J110319.67+355722.4'  # from SIMBAD\n",
    "table['tic'][table['gaiaedr3_source_id'] == 778947814402602752] = 252803603\n",
    "table['gaiadr2_source_id'][table['gaiaedr3_source_id'] == 778947814402602752] = 778947814402405120\n",
    "table['tic'][table['gaiaedr3_source_id'] == 4445793563751403264] = 276883893 # magnitude changed considerably DR2 to eDR3 hence failed checks but seems ok to me\n",
    "table['gaiadr2_source_id'][table['gaiaedr3_source_id'] == 4445793563751403264] = 4445793563749783424\n",
    "table['tic'][table['gaiaedr3_source_id'] == 4468557611984384512] = 398120047\n",
    "table['gaiadr2_source_id'][table['gaiaedr3_source_id'] == 4468557611984384512] = 4468557611977678336"
   ]
  },
  {
   "cell_type": "raw",
   "metadata": {},
   "source": [
    "for t in table[np.isin(table['primary_name'].data,simbad_failed) & (table['tic'] != -1)]:\n",
    "    print(\"'Gaia DR2 {0}': 'HIP {1}',\".format(t['gaiadr2_source_id'], t['hip']))"
   ]
  },
  {
   "cell_type": "code",
   "execution_count": 7,
   "metadata": {},
   "outputs": [],
   "source": [
    "# more failed matches by hand:\n",
    "# these all have correct TIC x-match but TIC and DR2 IDs are not ingested properly in SIMBAD\n",
    "# so we'll query on an alternative identifier\n",
    "weird_ones_map = {'Gaia DR2 386648181647057152':'HD 225291A',\n",
    "                 'Gaia DR2 2551241944269355776': 'HD 3972A',\n",
    "                 'Gaia DR2 417565761431676288': 'HIP 3585',\n",
    "                 'Gaia DR2 2572433347264096768': 'HIP 8110',\n",
    "                 'Gaia DR2 90783037268826368': 'HIP 9434',  # bright double\n",
    "                 'Gaia DR2 139281533098990336': 'HD 19771',  # bright double\n",
    "                 'Gaia DR2 450345089271313536': 'HD 21903',  # bright double\n",
    "                 'Gaia DR2 2989285658784560640': 'HIP 23951',  # bright double\n",
    "                 'Gaia DR2 3235618049144649984': 'HD 33866',\n",
    "                 'Gaia DR2 3319596479531147392': 'HD 38767',  # bright double\n",
    "                 'Gaia DR2 3049638303010222080': 'HD 52590',\n",
    "                 'Gaia DR2 901953203859813888': 'HD 67501A',  # co-moving twin pair?\n",
    "                 'Gaia DR2 901953199567368960': 'HD 67501B',  # co-moving twin pair?\n",
    "                 'Gaia DR2 903616971110812544': 'HD 71974',  # bright double\n",
    "                 'Gaia DR2 811174736439695232': 'HD 80441', # bright double\n",
    "                 'Gaia DR2 3850860191466194688': 'HD 82267',\n",
    "                 'Gaia DR2 1070274204844445056': 'HIP 49230',\n",
    "                 'Gaia DR2 746691643641649536': 'HIP 49315',\n",
    "                 'Gaia DR2 4022691525057422208': 'HIP 56054',\n",
    "                 'Gaia DR2 1466569467151572992': 'HD 114723',  # bright double ?\n",
    "                 'Gaia DR2 1603382317472430080': 'HIP 71109',\n",
    "                 'Gaia DR2 1186325496788069632': 'HD 131473',  # bright double\n",
    "                 'Gaia DR2 4409032079673958528': 'HIP 78024',\n",
    "                 'Gaia DR2 1191393008443719808': 'TYC 956-1098-1',  # HD 143597. no survey other than Tycho and Gaia resolves them\n",
    "                 'Gaia DR2 1191393008441035648': 'TYC 956-1098-2',  # HD 143597\n",
    "                 'Gaia DR2 4148904396147803136': 'HD 162739',  # duplicated in TIC as TIC 207281346\n",
    "                 'Gaia DR2 4185205008718146048': 'HD 179518',  # this HD is TIC as 6990809 with a different DR2 ID but no Gaia info, diff V mag ??\n",
    "                 'Gaia DR2 4516054074788081152': 'HD 180054',  # duplicated in TIC as TIC 352587633\n",
    "                 'Gaia DR2 2087620020176419072': 'HIP 99388',\n",
    "                 'Gaia DR2 1804783160869679872': 'HIP 101315',\n",
    "                 'Gaia DR2 1731257443928035200': 'HIP 104047',\n",
    "                 'Gaia DR2 1787693589076214016': 'HD 205160B',  # associated twin stars w slightly different PMRA?\n",
    "                 'Gaia DR2 1787693589076213632': 'HD 205160A',  # associated twin stars w slightly different PMRA?\n",
    "                 'Gaia DR2 2681975358571981312': 'HD 209965',  # bright double\n",
    "                 'Gaia DR2 1929623635232510208': 'HIP 112722',\n",
    "                 'Gaia DR2 2643881159024617088': 'HIP 115891'}"
   ]
  },
  {
   "cell_type": "raw",
   "metadata": {},
   "source": [
    "# primary name:\n",
    "\n",
    "simbad_failed = []\n",
    "maybe_double = []\n",
    "for i,t in enumerate(table):\n",
    "    if i%5 == 0:\n",
    "        time.sleep(0.5) # wait 0.5 s to avoid borking simbad\n",
    "    if i%100 == 0:\n",
    "        print('{0}/{1} complete'.format(i,len(table)))\n",
    "    name = 'Gaia DR2 '+str(t['gaiadr2_source_id'])\n",
    "    if name in weird_ones_map:\n",
    "        result = Simbad.query_objectids(weird_ones_map[name])\n",
    "    else:\n",
    "        result = Simbad.query_objectids(name)\n",
    "    if result is None:\n",
    "        simbad_failed.append(t['primary_name'])\n",
    "        continue\n",
    "    for r in result:\n",
    "        if ('HD' in r[0]) & ('HDS' not in r[0]):\n",
    "            table['hd'][i] = r[0].split()[1]\n",
    "            table['primary_name'][i] = 'HD'+r[0].split()[1]\n",
    "        elif 'HIP' in r[0]:\n",
    "            if table['hip'][i] != int(r[0].split()[1]): # TESS x-match fail\n",
    "                #print('WARNING: replacing ID HIP {0} with HIP {1} for row {2}'.format(table['hip'][i],\n",
    "                #        r[0].split()[1], i))\n",
    "                table['hip'][i] = r[0].split()[1]\n",
    "        elif 'WISEA' in r[0]:\n",
    "            if table['wisea'][i] != r[0].split()[1] or table['wisea'].mask[i]: # TESS x-match fail\n",
    "                table['wisea'][i] = r[0].split()[1]\n",
    "        elif '2MASS' in r[0]:\n",
    "            if (table['2mass'][i] != r[0].split()[1][1:]) or table['2mass'].mask[i]: # TESS x-match fail\n",
    "                table['2mass'][i] = r[0].split()[1][1:] # clip off the initial J for consistency\n",
    "    for r in result:\n",
    "        if r[0][:2] == '**':\n",
    "            maybe_double.append(t['primary_name'])\n",
    "        elif r[0][0] == '*':\n",
    "            table['primary_name'][i] = r[0][1:].strip() # string magic\n",
    "            continue # take only the first * name        "
   ]
  },
  {
   "cell_type": "raw",
   "metadata": {},
   "source": [
    "simbad_failed = np.array(simbad_failed)\n",
    "maybe_double = np.unique(maybe_double)\n",
    "\n",
    "print(len(simbad_failed), len(maybe_double))"
   ]
  },
  {
   "cell_type": "raw",
   "metadata": {},
   "source": [
    "table.write('Gr8stars_GaiaeDR3_formatted-names.csv', overwrite=True)"
   ]
  },
  {
   "cell_type": "code",
   "execution_count": 8,
   "metadata": {},
   "outputs": [],
   "source": [
    "# hacky alternative to rerunning all the simbad code:\n",
    "table2 = Table.read('Gr8stars_GaiaeDR3_formatted-names.csv')\n",
    "table2.sort(['ra_j2000','dec_j2000'])\n",
    "table['hd'] = table2['hd']\n",
    "table['primary_name'] = table2['primary_name']\n",
    "table['hip'] = table2['hip']\n",
    "table['2mass'] = table2['2mass']\n",
    "table['wisea'] = table2['wisea']"
   ]
  },
  {
   "cell_type": "code",
   "execution_count": 9,
   "metadata": {},
   "outputs": [],
   "source": [
    "table['hip'] = MaskedColumn(table['hip'], mask=(table['hip'] <= 0))"
   ]
  },
  {
   "cell_type": "code",
   "execution_count": 10,
   "metadata": {},
   "outputs": [
    {
     "data": {
      "text/html": [
       "<i>Table length=10</i>\n",
       "<table id=\"table140726323274640\" class=\"table-striped table-bordered table-condensed\">\n",
       "<thead><tr><th>ra_j2000</th><th>dec_j2000</th><th>primary_name</th><th>gaiadr2_source_id</th><th>gaiaedr3_source_id</th><th>hip</th><th>hd</th><th>tic</th><th>2mass</th><th>wisea</th><th>ra</th><th>ra_error</th><th>dec</th><th>dec_error</th><th>parallax</th><th>parallax_error</th><th>pmra</th><th>pmra_error</th><th>pmdec</th><th>pmdec_error</th><th>gmag</th><th>bp_rp</th><th>radial_velocity</th><th>radial_velocity_error</th><th>ref_epoch</th></tr></thead>\n",
       "<thead><tr><th>float64</th><th>float64</th><th>str29</th><th>int64</th><th>int64</th><th>int64</th><th>str7</th><th>int64</th><th>str16</th><th>str19</th><th>float64</th><th>float64</th><th>float64</th><th>float64</th><th>float64</th><th>float64</th><th>float64</th><th>float64</th><th>float64</th><th>float64</th><th>float64</th><th>float64</th><th>float64</th><th>float64</th><th>str7</th></tr></thead>\n",
       "<tr><td>0.1735187163099</td><td>62.1758995053047</td><td>HD224792</td><td>429915991435184000</td><td>429915991435184000</td><td>58</td><td>224792</td><td>417860263</td><td>00004167+6210331</td><td>J000041.58+621032.9</td><td>0.17307161161</td><td>0.0135</td><td>62.17570631925</td><td>0.0153</td><td>26.1048</td><td>0.0182</td><td>-46.955</td><td>0.017</td><td>-43.467</td><td>0.019</td><td>6.922204</td><td>0.67424</td><td>3.76</td><td>0.27</td><td>J2016.0</td></tr>\n",
       "<tr><td>0.2923327649201</td><td>-0.0761104076889</td><td>HD224839</td><td>2546019543207725440</td><td>2546019543207725440</td><td>93</td><td>224839</td><td>138684373</td><td>00011015-0004338</td><td>J000110.18-000434.6</td><td>0.29252029523</td><td>0.0274</td><td>-0.07639817491</td><td>0.0198</td><td>15.7099</td><td>0.0311</td><td>42.194</td><td>0.038</td><td>-64.748</td><td>0.019</td><td>7.981884</td><td>0.764665</td><td>-3.02</td><td>0.16</td><td>J2016.0</td></tr>\n",
       "<tr><td>0.4571711894795</td><td>65.4555699380329</td><td>HD224919</td><td>432197890377254528</td><td>432197890377254528</td><td>--</td><td>224919</td><td>418988281</td><td>00014974+6527200</td><td>J000149.74+652720.6</td><td>0.45736153541</td><td>0.0117</td><td>65.45580468513</td><td>0.012</td><td>15.3692</td><td>0.0151</td><td>17.791</td><td>0.015</td><td>52.818</td><td>0.016</td><td>7.535949</td><td>0.631671</td><td>-29.18</td><td>0.15</td><td>J2016.0</td></tr>\n",
       "<tr><td>0.5431196625046</td><td>27.0818330846237</td><td>85 Peg</td><td>2853900872207150720</td><td>2853900872207888768</td><td>171</td><td>224930</td><td>611726941</td><td>00021014+2704570</td><td>J000210.87+270444.6</td><td>0.54669605643</td><td>0.2633</td><td>27.07764869795</td><td>0.2213</td><td>81.179</td><td>0.449</td><td>716.46</td><td>0.452</td><td>-941.497</td><td>0.242</td><td>5.595876</td><td>0.929018</td><td>-35.57</td><td>0.35</td><td>J2016.0</td></tr>\n",
       "<tr><td>0.6965612550145</td><td>2.1301527341538</td><td>HD225028A</td><td>2739059700184753280</td><td>2739059700184753280</td><td>--</td><td>225028A</td><td>611064061</td><td>--</td><td>--</td><td>0.69683851342</td><td>0.0193</td><td>2.12973783087</td><td>0.0154</td><td>23.3713</td><td>0.0233</td><td>62.34</td><td>0.028</td><td>-93.353</td><td>0.015</td><td>7.213268</td><td>0.799183</td><td>-2.54</td><td>0.19</td><td>J2016.0</td></tr>\n",
       "<tr><td>0.8580574171151</td><td>20.6655286255845</td><td>HD225097</td><td>2846469822870413696</td><td>2846469822870413696</td><td>276</td><td>225097</td><td>238301314</td><td>00032593+2039561</td><td>J000325.97+203954.3</td><td>0.85833620764</td><td>0.144</td><td>20.66483347784</td><td>0.185</td><td>14.5756</td><td>0.225</td><td>58.692</td><td>0.187</td><td>-156.408</td><td>0.236</td><td>7.341593</td><td>0.79231</td><td>-31.51</td><td>0.4</td><td>J2016.0</td></tr>\n",
       "<tr><td>1.2346725514673</td><td>23.2696293916025</td><td>HD225261</td><td>2848150288954631296</td><td>2848150288954631296</td><td>400</td><td>225261</td><td>258866681</td><td>00045634+2316106</td><td>J000456.61+231610.6</td><td>1.23652388841</td><td>0.0188</td><td>23.26959631737</td><td>0.0219</td><td>37.9297</td><td>0.0258</td><td>382.667</td><td>0.024</td><td>-7.444</td><td>0.029</td><td>7.624367</td><td>0.940167</td><td>7.51</td><td>0.16</td><td>J2016.0</td></tr>\n",
       "<tr><td>1.2396804613202</td><td>45.6737925276659</td><td>HD225291A</td><td>386648181647057152</td><td>386648181647057152</td><td>404</td><td>225291A</td><td>439946040</td><td>00045752+4540257</td><td>J000457.52+454025.5</td><td>1.23979666771</td><td>0.0154</td><td>45.67350137279</td><td>0.012</td><td>13.6393</td><td>0.0222</td><td>18.27</td><td>0.019</td><td>-65.51</td><td>0.016</td><td>7.438472</td><td>0.694592</td><td>-17.15</td><td>0.16</td><td>J2016.0</td></tr>\n",
       "<tr><td>1.3798428459156</td><td>-9.6174575097273</td><td>HD63</td><td>2428706669045383808</td><td>2428706669045383808</td><td>462</td><td>63</td><td>176285709</td><td>00053115-0937028</td><td>J000531.22-093703.7</td><td>1.38022917866</td><td>0.0325</td><td>-9.61779490682</td><td>0.0212</td><td>20.1669</td><td>0.036</td><td>85.703</td><td>0.041</td><td>-75.914</td><td>0.024</td><td>7.020907</td><td>0.603799</td><td>0.44</td><td>0.31</td><td>J2016.0</td></tr>\n",
       "<tr><td>1.4781193154309</td><td>18.2350073192759</td><td>HD101</td><td>2797111130991722240</td><td>2797111130991722240</td><td>493</td><td>101</td><td>258868211</td><td>00055473+1814058</td><td>J000554.64+181404.4</td><td>1.47741339646</td><td>0.0232</td><td>18.2343496415</td><td>0.0203</td><td>26.6978</td><td>0.0286</td><td>-150.855</td><td>0.027</td><td>-147.978</td><td>0.027</td><td>7.318629</td><td>0.741892</td><td>-45.7</td><td>0.16</td><td>J2016.0</td></tr>\n",
       "</table>"
      ],
      "text/plain": [
       "<Table length=10>\n",
       "    ra_j2000       dec_j2000     ... radial_velocity_error ref_epoch\n",
       "    float64         float64      ...        float64           str7  \n",
       "--------------- ---------------- ... --------------------- ---------\n",
       "0.1735187163099 62.1758995053047 ...                  0.27   J2016.0\n",
       "0.2923327649201 -0.0761104076889 ...                  0.16   J2016.0\n",
       "0.4571711894795 65.4555699380329 ...                  0.15   J2016.0\n",
       "0.5431196625046 27.0818330846237 ...                  0.35   J2016.0\n",
       "0.6965612550145  2.1301527341538 ...                  0.19   J2016.0\n",
       "0.8580574171151 20.6655286255845 ...                   0.4   J2016.0\n",
       "1.2346725514673 23.2696293916025 ...                  0.16   J2016.0\n",
       "1.2396804613202 45.6737925276659 ...                  0.16   J2016.0\n",
       "1.3798428459156 -9.6174575097273 ...                  0.31   J2016.0\n",
       "1.4781193154309 18.2350073192759 ...                  0.16   J2016.0"
      ]
     },
     "execution_count": 10,
     "metadata": {},
     "output_type": "execute_result"
    }
   ],
   "source": [
    "table[0:10]"
   ]
  },
  {
   "cell_type": "markdown",
   "metadata": {},
   "source": [
    "### add Gaia DR2:"
   ]
  },
  {
   "cell_type": "code",
   "execution_count": 11,
   "metadata": {},
   "outputs": [
    {
     "name": "stdout",
     "output_type": "stream",
     "text": [
      "Launched query: 'SELECT TOP 5000 * FROM tap_upload.tbl AS tbl, gaiadr2.gaia_source AS gaia WHERE tbl.gaiadr2_source_id=gaia.source_id'\n",
      "------>https\n",
      "host = gea.esac.esa.int:443\n",
      "context = /tap-server/tap/sync\n",
      "Content-type = multipart/form-data; boundary====1626796662816===\n",
      "200 200\n",
      "[('Date', 'Tue, 20 Jul 2021 15:57:43 GMT'), ('Server', 'Apache/2.4.6 (CentOS) OpenSSL/1.0.2k-fips PHP/5.4.16 mod_jk/1.2.43'), ('Cache-Control', 'no-cache, no-store, max-age=0, must-revalidate'), ('Pragma', 'no-cache'), ('Expires', '0'), ('X-XSS-Protection', '1; mode=block'), ('X-Frame-Options', 'SAMEORIGIN'), ('X-Content-Type-Options', 'nosniff'), ('Set-Cookie', 'JSESSIONID=E82EC7A91AA63C7FE751969336349660; Path=/tap-server; Secure; HttpOnly'), ('Content-Encoding', 'gzip'), ('Content-Disposition', 'attachment;filename=\"1626796663335O-result.vot\"'), ('Transfer-Encoding', 'chunked'), ('Content-Type', 'application/x-votable+xml')]\n",
      "Retrieving sync. results...\n",
      "Query finished.\n"
     ]
    }
   ],
   "source": [
    "# gaia DR2:\n",
    "table['primary_name','gaiadr2_source_id'].write('gaiadr2.vot', format='votable', overwrite=True)  # write out the DR2 source_ids\n",
    "#Gaia.ROW_LIMIT = 5000\n",
    "query = \"SELECT TOP 5000 * FROM tap_upload.tbl AS tbl, gaiadr2.gaia_source AS gaia WHERE tbl.gaiadr2_source_id=gaia.source_id\"\n",
    "j = Gaia.launch_job(query=query, upload_resource='gaiadr2.vot', \n",
    "                    upload_table_name=\"tbl\", verbose=True)\n",
    "r = j.get_results()"
   ]
  },
  {
   "cell_type": "code",
   "execution_count": 12,
   "metadata": {},
   "outputs": [
    {
     "data": {
      "text/plain": [
       "<TableColumns names=('primary_name','gaiadr2_source_id','solution_id','designation','source_id','random_index','ref_epoch','ra','ra_error','dec','dec_error','parallax','parallax_error','parallax_over_error','pmra','pmra_error','pmdec','pmdec_error','ra_dec_corr','ra_parallax_corr','ra_pmra_corr','ra_pmdec_corr','dec_parallax_corr','dec_pmra_corr','dec_pmdec_corr','parallax_pmra_corr','parallax_pmdec_corr','pmra_pmdec_corr','astrometric_n_obs_al','astrometric_n_obs_ac','astrometric_n_good_obs_al','astrometric_n_bad_obs_al','astrometric_gof_al','astrometric_chi2_al','astrometric_excess_noise','astrometric_excess_noise_sig','astrometric_params_solved','astrometric_primary_flag','astrometric_weight_al','astrometric_pseudo_colour','astrometric_pseudo_colour_error','mean_varpi_factor_al','astrometric_matched_observations','visibility_periods_used','astrometric_sigma5d_max','frame_rotator_object_type','matched_observations','duplicated_source','phot_g_n_obs','phot_g_mean_flux','phot_g_mean_flux_error','phot_g_mean_flux_over_error','phot_g_mean_mag','phot_bp_n_obs','phot_bp_mean_flux','phot_bp_mean_flux_error','phot_bp_mean_flux_over_error','phot_bp_mean_mag','phot_rp_n_obs','phot_rp_mean_flux','phot_rp_mean_flux_error','phot_rp_mean_flux_over_error','phot_rp_mean_mag','phot_bp_rp_excess_factor','phot_proc_mode','bp_rp','bp_g','g_rp','radial_velocity','radial_velocity_error','rv_nb_transits','rv_template_teff','rv_template_logg','rv_template_fe_h','phot_variable_flag','l','b','ecl_lon','ecl_lat','priam_flags','teff_val','teff_percentile_lower','teff_percentile_upper','a_g_val','a_g_percentile_lower','a_g_percentile_upper','e_bp_min_rp_val','e_bp_min_rp_percentile_lower','e_bp_min_rp_percentile_upper','flame_flags','radius_val','radius_percentile_lower','radius_percentile_upper','lum_val','lum_percentile_lower','lum_percentile_upper','datalink_url')>"
      ]
     },
     "execution_count": 12,
     "metadata": {},
     "output_type": "execute_result"
    }
   ],
   "source": [
    "r.columns"
   ]
  },
  {
   "cell_type": "code",
   "execution_count": 13,
   "metadata": {},
   "outputs": [],
   "source": [
    "dr2_table = r['gaiadr2_source_id', 'teff_val']\n",
    "dr2_table.rename_column('teff_val', 'gaia_teff')\n",
    "dr2_table['gaia_teff_lower'] = r['teff_percentile_lower']\n",
    "dr2_table['gaia_teff_upper'] = r['teff_percentile_upper']\n",
    "dr2_table['gaia_radius'] = r['radius_val']\n",
    "dr2_table['gaia_radius_lower'] = r['radius_percentile_lower']\n",
    "dr2_table['gaia_radius_upper'] = r['radius_percentile_upper']\n",
    "dr2_table['gaia_lum'] = r['lum_val']\n",
    "dr2_table['gaia_lum_lower'] = r['lum_percentile_lower']\n",
    "dr2_table['gaia_lum_upper'] = r['lum_percentile_upper']"
   ]
  },
  {
   "cell_type": "code",
   "execution_count": 14,
   "metadata": {},
   "outputs": [],
   "source": [
    "table_with_dr2 = join(table, dr2_table, keys='gaiadr2_source_id', join_type='left')"
   ]
  },
  {
   "cell_type": "code",
   "execution_count": 15,
   "metadata": {},
   "outputs": [],
   "source": [
    "assert len(table_with_dr2) == len(table)"
   ]
  },
  {
   "cell_type": "code",
   "execution_count": 16,
   "metadata": {},
   "outputs": [],
   "source": [
    "table_with_dr2.sort(['ra_j2000','dec_j2000']) # get it in the same order as sample\n",
    "for i in np.random.randint(0,len(table),42):\n",
    "    #print(table[i], table_with_dr2[i])\n",
    "    assert table[i]['gaiadr2_source_id'] == table_with_dr2[i]['gaiadr2_source_id']"
   ]
  },
  {
   "cell_type": "code",
   "execution_count": 17,
   "metadata": {},
   "outputs": [],
   "source": [
    "table = table_with_dr2"
   ]
  },
  {
   "cell_type": "markdown",
   "metadata": {},
   "source": [
    "### add hires info:"
   ]
  },
  {
   "cell_type": "code",
   "execution_count": 18,
   "metadata": {},
   "outputs": [],
   "source": [
    "table.add_column(Column(name='spectrum_hires', dtype='<U29', length=len(table)))"
   ]
  },
  {
   "cell_type": "code",
   "execution_count": 19,
   "metadata": {},
   "outputs": [],
   "source": [
    "# spectra:\n",
    "hires_table = Table()\n",
    "hires_table.add_column(Column(name='gaiaedr3_source_id', dtype=np.int64, length=len(sample)))\n",
    "for i,s in enumerate(sample['EDR3Name']):\n",
    "    hires_table[i]['gaiaedr3_source_id'] = s.split()[2] # hack relying on spaces\n",
    "hires_table['spectrum_hires_resolution'] = MaskedColumn(sample['hires_maxres'], \n",
    "                                                  mask=(sample['hires_maxres'] == 0))\n",
    "hires_table['spectrum_hires_nobs'] = MaskedColumn(sample['n_hires_obs_maxres_iodout'], \n",
    "                                            mask=(sample['n_hires_obs_maxres_iodout'] == 0))\n",
    "hires_table['spectrum_hires_snr'] = MaskedColumn(sample['hires_maxres_snr'], \n",
    "                                           mask=(sample['hires_maxres_snr'] == 0))"
   ]
  },
  {
   "cell_type": "code",
   "execution_count": 20,
   "metadata": {},
   "outputs": [],
   "source": [
    "table_with_hires = join(table, hires_table, keys='gaiaedr3_source_id', join_type='left')"
   ]
  },
  {
   "cell_type": "code",
   "execution_count": 22,
   "metadata": {},
   "outputs": [],
   "source": [
    "# add a link:\n",
    "MIN_SNR = 100 # if combined SNR is below this limit, ignore the spectra\n",
    "bad = table_with_hires['spectrum_hires_snr'] < MIN_SNR\n",
    "table_with_hires['spectrum_hires_resolution'][bad] = np.ma.masked\n",
    "table_with_hires['spectrum_hires_nobs'][bad] = np.ma.masked\n",
    "table_with_hires['spectrum_hires_snr'][bad] = np.ma.masked\n",
    "table_with_hires['spectrum_hires'][~table_with_hires['spectrum_hires_snr'].mask] = 'true'"
   ]
  },
  {
   "cell_type": "code",
   "execution_count": 28,
   "metadata": {},
   "outputs": [],
   "source": [
    "table = table_with_hires"
   ]
  },
  {
   "cell_type": "markdown",
   "metadata": {},
   "source": [
    "### add harps info:"
   ]
  },
  {
   "cell_type": "code",
   "execution_count": 29,
   "metadata": {},
   "outputs": [],
   "source": [
    "harps_table = Table.read('annelies/Gr8_spectra_info_HARPS.txt', format='ascii', comment='-')"
   ]
  },
  {
   "cell_type": "code",
   "execution_count": 30,
   "metadata": {},
   "outputs": [],
   "source": [
    "harps_table.rename_column('Name', 'primary_name')\n",
    "harps_table.rename_column('S2D HARPS', 'spectrum_harps_nobs')\n",
    "harps_table.rename_column('SNR co-added HARPS', 'spectrum_harps_snr')"
   ]
  },
  {
   "cell_type": "code",
   "execution_count": 31,
   "metadata": {},
   "outputs": [
    {
     "data": {
      "text/html": [
       "<i>Table length=1</i>\n",
       "<table id=\"table140726310279376\" class=\"table-striped table-bordered table-condensed\">\n",
       "<thead><tr><th>primary_name</th><th>spectrum_harps_nobs</th><th>spectrum_harps_snr</th></tr></thead>\n",
       "<thead><tr><th>str9</th><th>int64</th><th>float64</th></tr></thead>\n",
       "<tr><td>111 Tau B</td><td>7</td><td>7.9</td></tr>\n",
       "</table>"
      ],
      "text/plain": [
       "<Table length=1>\n",
       "primary_name spectrum_harps_nobs spectrum_harps_snr\n",
       "    str9            int64             float64      \n",
       "------------ ------------------- ------------------\n",
       "   111 Tau B                   7                7.9"
      ]
     },
     "execution_count": 31,
     "metadata": {},
     "output_type": "execute_result"
    }
   ],
   "source": [
    "harps_table[harps_table['primary_name'] == '111 Tau B']"
   ]
  },
  {
   "cell_type": "code",
   "execution_count": 32,
   "metadata": {},
   "outputs": [],
   "source": [
    "table.add_column(Column(name='spectrum_harps', dtype='<U29', length=len(table)))"
   ]
  },
  {
   "cell_type": "code",
   "execution_count": 33,
   "metadata": {},
   "outputs": [],
   "source": [
    "table_with_harps = join(table, harps_table, keys='primary_name', join_type='left')"
   ]
  },
  {
   "cell_type": "code",
   "execution_count": 34,
   "metadata": {},
   "outputs": [],
   "source": [
    "table_with_harps['spectrum_harps_nobs'].fill_value = 0\n",
    "table_with_harps['spectrum_harps_snr'].fill_value = 0."
   ]
  },
  {
   "cell_type": "code",
   "execution_count": 36,
   "metadata": {},
   "outputs": [],
   "source": [
    "table_with_harps['spectrum_harps'][(table_with_harps['spectrum_harps_nobs'] > 0) \n",
    "                                   & ~(table_with_harps['spectrum_harps_nobs'].mask)] = 'true'"
   ]
  },
  {
   "cell_type": "code",
   "execution_count": 37,
   "metadata": {},
   "outputs": [],
   "source": [
    "table = table_with_harps"
   ]
  },
  {
   "cell_type": "code",
   "execution_count": 38,
   "metadata": {},
   "outputs": [
    {
     "data": {
      "text/html": [
       "<i>Row index=9</i>\n",
       "<table id=\"table140726348403792\">\n",
       "<thead><tr><th>ra_j2000</th><th>dec_j2000</th><th>primary_name</th><th>gaiadr2_source_id</th><th>gaiaedr3_source_id</th><th>hip</th><th>hd</th><th>tic</th><th>2mass</th><th>wisea</th><th>ra</th><th>ra_error</th><th>dec</th><th>dec_error</th><th>parallax</th><th>parallax_error</th><th>pmra</th><th>pmra_error</th><th>pmdec</th><th>pmdec_error</th><th>gmag</th><th>bp_rp</th><th>radial_velocity</th><th>radial_velocity_error</th><th>ref_epoch</th><th>gaia_teff</th><th>gaia_teff_lower</th><th>gaia_teff_upper</th><th>gaia_radius</th><th>gaia_radius_lower</th><th>gaia_radius_upper</th><th>gaia_lum</th><th>gaia_lum_lower</th><th>gaia_lum_upper</th><th>spectrum_hires</th><th>spectrum_hires_resolution</th><th>spectrum_hires_nobs</th><th>spectrum_hires_snr</th><th>spectrum_harps</th><th>spectrum_harps_nobs</th><th>spectrum_harps_snr</th></tr></thead>\n",
       "<thead><tr><th></th><th></th><th></th><th></th><th></th><th></th><th></th><th></th><th></th><th></th><th></th><th></th><th></th><th></th><th></th><th></th><th></th><th></th><th></th><th></th><th></th><th></th><th></th><th></th><th></th><th>K</th><th>K</th><th>K</th><th>Rsun</th><th>Rsun</th><th>Rsun</th><th>Lsun</th><th>Lsun</th><th>Lsun</th><th></th><th></th><th></th><th></th><th></th><th></th><th></th></tr></thead>\n",
       "<thead><tr><th>float64</th><th>float64</th><th>str29</th><th>int64</th><th>int64</th><th>int64</th><th>str7</th><th>int64</th><th>str16</th><th>str19</th><th>float64</th><th>float64</th><th>float64</th><th>float64</th><th>float64</th><th>float64</th><th>float64</th><th>float64</th><th>float64</th><th>float64</th><th>float64</th><th>float64</th><th>float64</th><th>float64</th><th>str7</th><th>float32</th><th>float32</th><th>float32</th><th>float32</th><th>float32</th><th>float32</th><th>float32</th><th>float32</th><th>float32</th><th>str29</th><th>float64</th><th>int64</th><th>float64</th><th>str29</th><th>int64</th><th>float64</th></tr></thead>\n",
       "<tr><td>80.9099146163007</td><td>17.324116905683</td><td>111 Tau B</td><td>3394298532176344960</td><td>3394298532176344960</td><td>25220</td><td>35171</td><td>47345026</td><td>05233836+1719267</td><td>J052338.57+171926.8</td><td>80.91108310812</td><td>0.02</td><td>17.32409154335</td><td>0.0139</td><td>68.7662</td><td>0.0246</td><td>250.984</td><td>0.027</td><td>-5.707</td><td>0.019</td><td>7.543094</td><td>1.348195</td><td>37.94</td><td>0.13</td><td>J2016.0</td><td>4628.6665</td><td>4576.0</td><td>4712.0</td><td>0.6723673</td><td>0.6487954</td><td>0.68793327</td><td>0.18695256</td><td>0.18674259</td><td>0.18716253</td><td></td><td>--</td><td>--</td><td>--</td><td>true</td><td>7</td><td>7.9</td></tr>\n",
       "</table>"
      ],
      "text/plain": [
       "<Row index=9>\n",
       "    ra_j2000        dec_j2000    primary_name  gaiadr2_source_id   gaiaedr3_source_id  hip    hd    tic         2mass              wisea              ra       ra_error      dec       dec_error parallax parallax_error   pmra  pmra_error  pmdec  pmdec_error   gmag    bp_rp   radial_velocity radial_velocity_error ref_epoch gaia_teff gaia_teff_lower gaia_teff_upper gaia_radius gaia_radius_lower gaia_radius_upper  gaia_lum  gaia_lum_lower gaia_lum_upper spectrum_hires spectrum_hires_resolution spectrum_hires_nobs spectrum_hires_snr spectrum_harps spectrum_harps_nobs spectrum_harps_snr\n",
       "                                                                                                                                                                                                                                                                                                                                      K            K               K            Rsun           Rsun              Rsun          Lsun         Lsun           Lsun                                                                                                                                           \n",
       "    float64          float64        str29            int64               int64        int64  str7  int64        str16              str19           float64     float64     float64      float64  float64     float64     float64  float64   float64   float64   float64  float64      float64            float64           str7    float32      float32         float32       float32        float32           float32       float32      float32        float32         str29               float64                 int64             float64           str29             int64             float64      \n",
       "---------------- --------------- ------------ ------------------- ------------------- ----- ----- -------- ---------------- ------------------- -------------- -------- -------------- --------- -------- -------------- ------- ---------- ------- ----------- -------- -------- --------------- --------------------- --------- --------- --------------- --------------- ----------- ----------------- ----------------- ---------- -------------- -------------- -------------- ------------------------- ------------------- ------------------ -------------- ------------------- ------------------\n",
       "80.9099146163007 17.324116905683    111 Tau B 3394298532176344960 3394298532176344960 25220 35171 47345026 05233836+1719267 J052338.57+171926.8 80.91108310812     0.02 17.32409154335    0.0139  68.7662         0.0246 250.984      0.027  -5.707       0.019 7.543094 1.348195           37.94                  0.13   J2016.0 4628.6665          4576.0          4712.0   0.6723673         0.6487954        0.68793327 0.18695256     0.18674259     0.18716253                                       --                  --                 --           true                   7                7.9"
      ]
     },
     "execution_count": 38,
     "metadata": {},
     "output_type": "execute_result"
    }
   ],
   "source": [
    "table[9]"
   ]
  },
  {
   "cell_type": "markdown",
   "metadata": {},
   "source": [
    "### write it out:"
   ]
  },
  {
   "cell_type": "code",
   "execution_count": 39,
   "metadata": {},
   "outputs": [
    {
     "data": {
      "text/html": [
       "<i>Table length=10</i>\n",
       "<table id=\"table140726350445648\" class=\"table-striped table-bordered table-condensed\">\n",
       "<thead><tr><th>ra_j2000</th><th>dec_j2000</th><th>primary_name</th><th>gaiadr2_source_id</th><th>gaiaedr3_source_id</th><th>hip</th><th>hd</th><th>tic</th><th>2mass</th><th>wisea</th><th>ra</th><th>ra_error</th><th>dec</th><th>dec_error</th><th>parallax</th><th>parallax_error</th><th>pmra</th><th>pmra_error</th><th>pmdec</th><th>pmdec_error</th><th>gmag</th><th>bp_rp</th><th>radial_velocity</th><th>radial_velocity_error</th><th>ref_epoch</th><th>gaia_teff</th><th>gaia_teff_lower</th><th>gaia_teff_upper</th><th>gaia_radius</th><th>gaia_radius_lower</th><th>gaia_radius_upper</th><th>gaia_lum</th><th>gaia_lum_lower</th><th>gaia_lum_upper</th><th>spectrum_hires</th><th>spectrum_hires_resolution</th><th>spectrum_hires_nobs</th><th>spectrum_hires_snr</th><th>spectrum_harps</th><th>spectrum_harps_nobs</th><th>spectrum_harps_snr</th></tr></thead>\n",
       "<thead><tr><th></th><th></th><th></th><th></th><th></th><th></th><th></th><th></th><th></th><th></th><th></th><th></th><th></th><th></th><th></th><th></th><th></th><th></th><th></th><th></th><th></th><th></th><th></th><th></th><th></th><th>K</th><th>K</th><th>K</th><th>Rsun</th><th>Rsun</th><th>Rsun</th><th>Lsun</th><th>Lsun</th><th>Lsun</th><th></th><th></th><th></th><th></th><th></th><th></th><th></th></tr></thead>\n",
       "<thead><tr><th>float64</th><th>float64</th><th>str29</th><th>int64</th><th>int64</th><th>int64</th><th>str7</th><th>int64</th><th>str16</th><th>str19</th><th>float64</th><th>float64</th><th>float64</th><th>float64</th><th>float64</th><th>float64</th><th>float64</th><th>float64</th><th>float64</th><th>float64</th><th>float64</th><th>float64</th><th>float64</th><th>float64</th><th>str7</th><th>float32</th><th>float32</th><th>float32</th><th>float32</th><th>float32</th><th>float32</th><th>float32</th><th>float32</th><th>float32</th><th>str29</th><th>float64</th><th>int64</th><th>float64</th><th>str29</th><th>int64</th><th>float64</th></tr></thead>\n",
       "<tr><td>238.1689210400862</td><td>42.4515174680292</td><td>1 Her</td><td>1384195086792268800</td><td>1384195086792268800</td><td>77760</td><td>142373</td><td>157364190</td><td>15524052+4227052</td><td>J155240.95+422712.1</td><td>238.17156439238</td><td>0.0608</td><td>42.45431545672</td><td>0.0739</td><td>62.9028</td><td>0.0807</td><td>438.839</td><td>0.08</td><td>629.541</td><td>0.099</td><td>4.424265</td><td>0.784468</td><td>-56.01</td><td>0.16</td><td>J2016.0</td><td>6073.0</td><td>5888.5</td><td>6158.0</td><td>1.6416837</td><td>1.5966756</td><td>1.7461708</td><td>3.3028345</td><td>3.2885118</td><td>3.3171573</td><td></td><td>--</td><td>--</td><td>--</td><td></td><td>--</td><td>--</td></tr>\n",
       "<tr><td>126.1458923835362</td><td>-3.7512424989997</td><td>1 Hya</td><td>3066710282611675776</td><td>3066710282611675776</td><td>41211</td><td>70958</td><td>168975758</td><td>08243502-0345045</td><td>J082434.89-034504.6</td><td>126.14494794137</td><td>0.045</td><td>-3.75135791807</td><td>0.032</td><td>36.9674</td><td>0.061</td><td>-212.044</td><td>0.06</td><td>-25.969</td><td>0.059</td><td>5.468879</td><td>0.648508</td><td>96.87</td><td>5.64</td><td>J2016.0</td><td>6320.5</td><td>6246.0</td><td>6395.0</td><td>1.5511353</td><td>1.5152051</td><td>1.5883586</td><td>3.459392</td><td>3.4467092</td><td>3.472075</td><td></td><td>--</td><td>--</td><td>--</td><td></td><td>--</td><td>--</td></tr>\n",
       "<tr><td>191.2475206828197</td><td>39.2789161469845</td><td>10 CVn</td><td>1521686782461765888</td><td>1521686782461765888</td><td>62207</td><td>110897</td><td>389853353</td><td>12445938+3916441</td><td>--</td><td>191.24545542461</td><td>0.0197</td><td>39.27953401499</td><td>0.0174</td><td>56.9588</td><td>0.0323</td><td>-359.699</td><td>0.018</td><td>139.016</td><td>0.018</td><td>5.803025</td><td>0.756415</td><td>80.45</td><td>0.19</td><td>J2016.0</td><td>5967.75</td><td>5926.5</td><td>6026.3335</td><td>0.98277783</td><td>0.96376306</td><td>0.9965062</td><td>1.103692</td><td>1.1017659</td><td>1.1056182</td><td>true</td><td>102700.0</td><td>3</td><td>139.7855500400524</td><td></td><td>--</td><td>--</td></tr>\n",
       "<tr><td>54.2182654350701</td><td>0.4016644716193</td><td>10 Tau</td><td>3263836568393943808</td><td>3263836568394170880</td><td>16852</td><td>22484</td><td>649766486</td><td>03365238+0024054</td><td>J033652.23+002400.9</td><td>54.21723179469</td><td>0.1306</td><td>0.39952459488</td><td>0.1093</td><td>71.837</td><td>0.1503</td><td>-232.563</td><td>0.164</td><td>-481.472</td><td>0.143</td><td>4.141093</td><td>0.757795</td><td>nan</td><td>nan</td><td>J2016.0</td><td>6082.3335</td><td>5830.0</td><td>6164.6665</td><td>--</td><td>--</td><td>--</td><td>--</td><td>--</td><td>--</td><td>true</td><td>71600.0</td><td>2</td><td>151.42654985173505</td><td></td><td>--</td><td>--</td></tr>\n",
       "<tr><td>74.9346751253041</td><td>15.9167324100169</td><td>101 Tau</td><td>3393284752392701312</td><td>3393284752392701312</td><td>23214</td><td>31845</td><td>389121767</td><td>04594432+1555002</td><td>J045944.38+155459.9</td><td>74.93506827868</td><td>0.0241</td><td>15.91660060912</td><td>0.0127</td><td>22.3771</td><td>0.0262</td><td>85.068</td><td>0.033</td><td>-29.655</td><td>0.021</td><td>6.644502</td><td>0.59449</td><td>41.72</td><td>0.54</td><td>J2016.0</td><td>6520.25</td><td>6444.5</td><td>6551.5</td><td>1.4123555</td><td>1.398914</td><td>1.4457529</td><td>3.2481775</td><td>3.2326443</td><td>3.2637107</td><td></td><td>--</td><td>--</td><td>--</td><td>true</td><td>1</td><td>105.9</td></tr>\n",
       "<tr><td>76.8625232015097</td><td>18.6450499366847</td><td>104 Tau</td><td>3407611182744289152</td><td>3407611182744289152</td><td>23835</td><td>32923</td><td>27136704</td><td>05072692+1838420</td><td>--</td><td>76.86503115411</td><td>0.0897</td><td>18.64513194789</td><td>0.0566</td><td>62.8252</td><td>0.1094</td><td>534.674</td><td>0.111</td><td>18.449</td><td>0.083</td><td>4.732457</td><td>0.844065</td><td>20.58</td><td>0.15</td><td>J2016.0</td><td>5835.0</td><td>5700.0</td><td>6022.0</td><td>1.5503769</td><td>1.4555848</td><td>1.6246854</td><td>2.510341</td><td>2.4968112</td><td>2.5238707</td><td>true</td><td>71600.0</td><td>3</td><td>196.42810389554748</td><td>true</td><td>48</td><td>394.1</td></tr>\n",
       "<tr><td>315.1410034667797</td><td>-4.7302596237905</td><td>11 Aqr</td><td>6912276699251278848</td><td>6912276699251278848</td><td>103682</td><td>199960</td><td>248854510</td><td>21003382-0443486</td><td>J210033.85-044350.1</td><td>315.1412210745</td><td>0.0209</td><td>-4.73087375776</td><td>0.0137</td><td>36.9971</td><td>0.0293</td><td>48.795</td><td>0.028</td><td>-138.18</td><td>0.021</td><td>6.063653</td><td>0.779556</td><td>-17.34</td><td>0.14</td><td>J2016.0</td><td>5920.0</td><td>5863.0</td><td>5967.0</td><td>1.3689218</td><td>1.3474416</td><td>1.3956684</td><td>2.0736659</td><td>2.069347</td><td>2.0779848</td><td></td><td>--</td><td>--</td><td>--</td><td>true</td><td>77</td><td>208.8</td></tr>\n",
       "<tr><td>143.9145924739025</td><td>35.8101325142152</td><td>11 LMi</td><td>798068905726303232</td><td>798068905726303232</td><td>47080</td><td>82885</td><td>8915802</td><td>09353959+3548366</td><td>J093538.92+354834.4</td><td>143.91061083593</td><td>0.0692</td><td>35.80898121341</td><td>0.0601</td><td>89.0092</td><td>0.0937</td><td>-726.514</td><td>0.07</td><td>-259.057</td><td>0.062</td><td>5.200431</td><td>0.934127</td><td>14.39</td><td>0.17</td><td>J2016.0</td><td>5661.0</td><td>5488.0</td><td>6794.75</td><td>0.93610704</td><td>0.64977777</td><td>0.99605566</td><td>0.8108086</td><td>0.8083409</td><td>0.8132763</td><td></td><td>--</td><td>--</td><td>--</td><td></td><td>--</td><td>--</td></tr>\n",
       "<tr><td>81.1060970084435</td><td>17.3835351141963</td><td>111 Tau</td><td>3400292798990117888</td><td>3400292798990117888</td><td>25278</td><td>35296</td><td>47346402</td><td>05242545+1723006</td><td>J052425.63+172301.0</td><td>81.10726354597</td><td>0.0837</td><td>17.3835033119</td><td>0.0574</td><td>68.5908</td><td>0.104</td><td>250.483</td><td>0.108</td><td>-7.156</td><td>0.077</td><td>4.850188</td><td>0.708018</td><td>37.67</td><td>0.24</td><td>J2016.0</td><td>6171.0</td><td>6060.0</td><td>6327.25</td><td>1.1929284</td><td>1.1347377</td><td>1.23703</td><td>1.8592839</td><td>1.8510683</td><td>1.8674996</td><td></td><td>--</td><td>--</td><td>--</td><td></td><td>--</td><td>--</td></tr>\n",
       "<tr><td>80.9099146163007</td><td>17.324116905683</td><td>111 Tau B</td><td>3394298532176344960</td><td>3394298532176344960</td><td>25220</td><td>35171</td><td>47345026</td><td>05233836+1719267</td><td>J052338.57+171926.8</td><td>80.91108310812</td><td>0.02</td><td>17.32409154335</td><td>0.0139</td><td>68.7662</td><td>0.0246</td><td>250.984</td><td>0.027</td><td>-5.707</td><td>0.019</td><td>7.543094</td><td>1.348195</td><td>37.94</td><td>0.13</td><td>J2016.0</td><td>4628.6665</td><td>4576.0</td><td>4712.0</td><td>0.6723673</td><td>0.6487954</td><td>0.68793327</td><td>0.18695256</td><td>0.18674259</td><td>0.18716253</td><td></td><td>--</td><td>--</td><td>--</td><td>true</td><td>7</td><td>7.9</td></tr>\n",
       "</table>"
      ],
      "text/plain": [
       "<Table length=10>\n",
       "     ra_j2000        dec_j2000     ... spectrum_harps_nobs spectrum_harps_snr\n",
       "                                   ...                                       \n",
       "     float64          float64      ...        int64             float64      \n",
       "----------------- ---------------- ... ------------------- ------------------\n",
       "238.1689210400862 42.4515174680292 ...                  --                 --\n",
       "126.1458923835362 -3.7512424989997 ...                  --                 --\n",
       "191.2475206828197 39.2789161469845 ...                  --                 --\n",
       " 54.2182654350701  0.4016644716193 ...                  --                 --\n",
       " 74.9346751253041 15.9167324100169 ...                   1              105.9\n",
       " 76.8625232015097 18.6450499366847 ...                  48              394.1\n",
       "315.1410034667797 -4.7302596237905 ...                  77              208.8\n",
       "143.9145924739025 35.8101325142152 ...                  --                 --\n",
       " 81.1060970084435 17.3835351141963 ...                  --                 --\n",
       " 80.9099146163007  17.324116905683 ...                   7                7.9"
      ]
     },
     "execution_count": 39,
     "metadata": {},
     "output_type": "execute_result"
    }
   ],
   "source": [
    "table[:10]"
   ]
  },
  {
   "cell_type": "code",
   "execution_count": 40,
   "metadata": {},
   "outputs": [],
   "source": [
    "from astropy.io import ascii\n",
    "ascii.write(table, 'Gr8stars_GaiaeDR3_formatted.csv', delimiter=',', formats={'spectrum_hires_snr':'%.1f'},\n",
    "           comment=False, overwrite=True)"
   ]
  },
  {
   "cell_type": "code",
   "execution_count": null,
   "metadata": {},
   "outputs": [],
   "source": []
  }
 ],
 "metadata": {
  "kernelspec": {
   "display_name": "gr8stars",
   "language": "python",
   "name": "gr8stars"
  },
  "language_info": {
   "codemirror_mode": {
    "name": "ipython",
    "version": 3
   },
   "file_extension": ".py",
   "mimetype": "text/x-python",
   "name": "python",
   "nbconvert_exporter": "python",
   "pygments_lexer": "ipython3",
   "version": "3.7.8"
  }
 },
 "nbformat": 4,
 "nbformat_minor": 4
}
