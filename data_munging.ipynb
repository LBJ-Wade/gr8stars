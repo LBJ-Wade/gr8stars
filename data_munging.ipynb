{
 "cells": [
  {
   "cell_type": "code",
   "execution_count": 1,
   "metadata": {},
   "outputs": [
    {
     "name": "stdout",
     "output_type": "stream",
     "text": [
      "Created TAP+ (v1.2.1) - Connection:\n",
      "\tHost: gea.esac.esa.int\n",
      "\tUse HTTPS: True\n",
      "\tPort: 443\n",
      "\tSSL Port: 443\n",
      "Created TAP+ (v1.2.1) - Connection:\n",
      "\tHost: geadata.esac.esa.int\n",
      "\tUse HTTPS: True\n",
      "\tPort: 443\n",
      "\tSSL Port: 443\n"
     ]
    }
   ],
   "source": [
    "import numpy as np\n",
    "import matplotlib.pyplot as plt\n",
    "from astropy.table import Table, vstack, Column, join\n",
    "from astropy import units as u\n",
    "from astroquery.simbad import Simbad\n",
    "from astroquery.gaia import Gaia\n",
    "import time"
   ]
  },
  {
   "cell_type": "code",
   "execution_count": 2,
   "metadata": {},
   "outputs": [],
   "source": [
    "sample = Table.read('Gr8stars_GaiaeDR3_TIC_hires.csv')\n",
    "sample.sort(['_RAJ2000','_DEJ2000'])"
   ]
  },
  {
   "cell_type": "code",
   "execution_count": 3,
   "metadata": {},
   "outputs": [],
   "source": [
    "table = sample['_RAJ2000', '_DEJ2000']\n",
    "table.rename_column('_RAJ2000', 'ra_j2000')\n",
    "table.rename_column('_DEJ2000', 'dec_j2000')"
   ]
  },
  {
   "cell_type": "code",
   "execution_count": 4,
   "metadata": {},
   "outputs": [],
   "source": [
    "# names:\n",
    "table['primary_name'] = sample['EDR3Name'] # CHANGE THIS LATER\n",
    "table['gaiadr2_source_id'] = sample['GAIA']\n",
    "table['gaiaedr3_source_id'] = sample['Source']\n",
    "table['hip'] = sample['HIP']\n",
    "#table['hip'][table['hip'] < 0] = np.nan # replace -1s with nans\n",
    "table.add_column(Column(name='hd', dtype='<U29', length=len(table)))\n",
    "table['tic'] = sample['TIC']\n",
    "table['2mass'] = sample['2MASS']\n",
    "table['2mass'][table['2mass']=='--'] = '' # replace --s with empty\n",
    "table['wisea'] = sample['WISEA']\n",
    "table['wisea'][table['wisea']=='--'] = '' # replace --s with empty\n"
   ]
  },
  {
   "cell_type": "code",
   "execution_count": 5,
   "metadata": {},
   "outputs": [],
   "source": [
    "# gaia:\n",
    "table['ra'] = sample['RA_ICRS']\n",
    "table['ra_error'] = sample['e_RA_ICRS']\n",
    "table['dec'] = sample['DE_ICRS']\n",
    "table['dec_error'] = sample['e_DE_ICRS']\n",
    "table['parallax'] = sample['Plx']\n",
    "table['parallax_error'] = sample['e_Plx']\n",
    "table['pmra'] = sample['pmRA']\n",
    "table['pmra_error'] = sample['e_pmRA']\n",
    "table['pmdec'] = sample['pmDE']\n",
    "table['pmdec_error'] = sample['e_pmDE']\n",
    "table['gmag'] = sample['Gmag']\n",
    "table['bp_rp'] = sample['BPRP']\n",
    "table['radial_velocity'] = sample['RVDR2']\n",
    "table['radial_velocity_error'] = sample['e_RVDR2']\n",
    "table['ref_epoch'] = 'J2016.0'"
   ]
  },
  {
   "cell_type": "raw",
   "metadata": {},
   "source": [
    "# primary name:\n",
    "\n",
    "simbad_failed = []\n",
    "maybe_double = []\n",
    "for i,t in enumerate(table):\n",
    "    if i%5 == 0:\n",
    "        time.sleep(0.5) # wait 0.5 s to avoid borking simbad\n",
    "    if i%100 == 0:\n",
    "        print('{0}/{1} complete'.format(i,len(table)))\n",
    "    name = 'Gaia DR2 '+str(t['gaiadr2_source_id'])\n",
    "    result = Simbad.query_objectids(name)\n",
    "    if result is None:\n",
    "        simbad_failed.append(t['primary_name'])\n",
    "        continue\n",
    "    for r in result:\n",
    "        if 'HD' in r[0]:\n",
    "            table['hd'][i] = r[0].split()[1]\n",
    "            table['primary_name'][i] = 'HD'+r[0].split()[1]\n",
    "            continue\n",
    "    for r in result:\n",
    "        if r[0][:2] == '**':\n",
    "            maybe_double.append(t['primary_name'])\n",
    "        elif r[0][0] == '*':\n",
    "            table['primary_name'][i] = r[0][1:].strip() # string magic\n",
    "            continue # take only the first * name        "
   ]
  },
  {
   "cell_type": "raw",
   "metadata": {},
   "source": [
    "simbad_failed = np.array(simbad_failed)\n",
    "maybe_double = np.unique(maybe_double)\n",
    "\n",
    "print(len(simbad_failed), len(maybe_double))"
   ]
  },
  {
   "cell_type": "raw",
   "metadata": {},
   "source": [
    "table.write('Gr8stars_GaiaeDR3_formatted-names.csv')"
   ]
  },
  {
   "cell_type": "code",
   "execution_count": 6,
   "metadata": {},
   "outputs": [],
   "source": [
    "# hacky alternative to rerunning all the simbad code:\n",
    "table2 = Table.read('Gr8stars_GaiaeDR3_formatted-names.csv')\n",
    "table2.sort(['ra_j2000','dec_j2000'])\n",
    "table['hd'] = table2['hd']\n",
    "table['primary_name'] = table2['primary_name']"
   ]
  },
  {
   "cell_type": "raw",
   "metadata": {},
   "source": [
    "for n in table['primary_name']:\n",
    "    if not 'HD' in n:\n",
    "        print(n)"
   ]
  },
  {
   "cell_type": "code",
   "execution_count": 7,
   "metadata": {},
   "outputs": [
    {
     "name": "stdout",
     "output_type": "stream",
     "text": [
      "Launched query: 'SELECT TOP 5000 * FROM tap_upload.tbl AS tbl, gaiadr2.gaia_source AS gaia WHERE tbl.gaiadr2_source_id=gaia.source_id'\n",
      "------>https\n",
      "host = gea.esac.esa.int:443\n",
      "context = /tap-server/tap/sync\n",
      "Content-type = multipart/form-data; boundary====1621886453599===\n",
      "200 200\n",
      "[('Date', 'Mon, 24 May 2021 20:00:54 GMT'), ('Server', 'Apache/2.4.6 (CentOS) OpenSSL/1.0.2k-fips PHP/5.4.16 mod_jk/1.2.43'), ('Cache-Control', 'no-cache, no-store, max-age=0, must-revalidate'), ('Pragma', 'no-cache'), ('Expires', '0'), ('X-XSS-Protection', '1; mode=block'), ('X-Frame-Options', 'SAMEORIGIN'), ('X-Content-Type-Options', 'nosniff'), ('Set-Cookie', 'JSESSIONID=0FB7F8691B86EBDF2C8B76A4F67D32B8; Path=/tap-server; Secure; HttpOnly'), ('Content-Encoding', 'gzip'), ('Content-Disposition', 'attachment;filename=\"1621886454252O-result.vot\"'), ('Transfer-Encoding', 'chunked'), ('Content-Type', 'application/x-votable+xml')]\n",
      "Retrieving sync. results...\n",
      "Query finished.\n"
     ]
    }
   ],
   "source": [
    "# gaia DR2:\n",
    "table['primary_name','gaiadr2_source_id'].write('gaiadr2.vot', format='votable', overwrite=True)  # write out the DR2 source_ids\n",
    "#Gaia.ROW_LIMIT = 5000\n",
    "query = \"SELECT TOP 5000 * FROM tap_upload.tbl AS tbl, gaiadr2.gaia_source AS gaia WHERE tbl.gaiadr2_source_id=gaia.source_id\"\n",
    "j = Gaia.launch_job(query=query, upload_resource='gaiadr2.vot', \n",
    "                    upload_table_name=\"tbl\", verbose=True)\n",
    "r = j.get_results()"
   ]
  },
  {
   "cell_type": "code",
   "execution_count": 8,
   "metadata": {},
   "outputs": [
    {
     "data": {
      "text/plain": [
       "<TableColumns names=('primary_name','gaiadr2_source_id','solution_id','designation','source_id','random_index','ref_epoch','ra','ra_error','dec','dec_error','parallax','parallax_error','parallax_over_error','pmra','pmra_error','pmdec','pmdec_error','ra_dec_corr','ra_parallax_corr','ra_pmra_corr','ra_pmdec_corr','dec_parallax_corr','dec_pmra_corr','dec_pmdec_corr','parallax_pmra_corr','parallax_pmdec_corr','pmra_pmdec_corr','astrometric_n_obs_al','astrometric_n_obs_ac','astrometric_n_good_obs_al','astrometric_n_bad_obs_al','astrometric_gof_al','astrometric_chi2_al','astrometric_excess_noise','astrometric_excess_noise_sig','astrometric_params_solved','astrometric_primary_flag','astrometric_weight_al','astrometric_pseudo_colour','astrometric_pseudo_colour_error','mean_varpi_factor_al','astrometric_matched_observations','visibility_periods_used','astrometric_sigma5d_max','frame_rotator_object_type','matched_observations','duplicated_source','phot_g_n_obs','phot_g_mean_flux','phot_g_mean_flux_error','phot_g_mean_flux_over_error','phot_g_mean_mag','phot_bp_n_obs','phot_bp_mean_flux','phot_bp_mean_flux_error','phot_bp_mean_flux_over_error','phot_bp_mean_mag','phot_rp_n_obs','phot_rp_mean_flux','phot_rp_mean_flux_error','phot_rp_mean_flux_over_error','phot_rp_mean_mag','phot_bp_rp_excess_factor','phot_proc_mode','bp_rp','bp_g','g_rp','radial_velocity','radial_velocity_error','rv_nb_transits','rv_template_teff','rv_template_logg','rv_template_fe_h','phot_variable_flag','l','b','ecl_lon','ecl_lat','priam_flags','teff_val','teff_percentile_lower','teff_percentile_upper','a_g_val','a_g_percentile_lower','a_g_percentile_upper','e_bp_min_rp_val','e_bp_min_rp_percentile_lower','e_bp_min_rp_percentile_upper','flame_flags','radius_val','radius_percentile_lower','radius_percentile_upper','lum_val','lum_percentile_lower','lum_percentile_upper','datalink_url')>"
      ]
     },
     "execution_count": 8,
     "metadata": {},
     "output_type": "execute_result"
    }
   ],
   "source": [
    "r.columns"
   ]
  },
  {
   "cell_type": "code",
   "execution_count": 9,
   "metadata": {},
   "outputs": [],
   "source": [
    "dr2_table = r['gaiadr2_source_id', 'teff_val']\n",
    "dr2_table.rename_column('teff_val', 'gaia_teff')\n",
    "dr2_table['gaia_teff_lower'] = r['teff_percentile_lower']\n",
    "dr2_table['gaia_teff_upper'] = r['teff_percentile_upper']\n",
    "dr2_table['gaia_radius'] = r['radius_val']\n",
    "dr2_table['gaia_radius_lower'] = r['radius_percentile_lower']\n",
    "dr2_table['gaia_radius_upper'] = r['radius_percentile_upper']\n",
    "dr2_table['gaia_lum'] = r['lum_val']\n",
    "dr2_table['gaia_lum_lower'] = r['lum_percentile_lower']\n",
    "dr2_table['gaia_lum_upper'] = r['lum_percentile_upper']"
   ]
  },
  {
   "cell_type": "code",
   "execution_count": 10,
   "metadata": {},
   "outputs": [],
   "source": [
    "table_with_dr2 = join(table, dr2_table, keys='gaiadr2_source_id', join_type='left')"
   ]
  },
  {
   "cell_type": "code",
   "execution_count": 11,
   "metadata": {},
   "outputs": [],
   "source": [
    "assert len(table_with_dr2) == len(table)"
   ]
  },
  {
   "cell_type": "code",
   "execution_count": 12,
   "metadata": {},
   "outputs": [],
   "source": [
    "table_with_dr2.sort(['ra_j2000','dec_j2000']) # get it in the same order as sample\n",
    "for i in np.random.randint(0,len(table),42):\n",
    "    #print(table[i], table_with_dr2[i])\n",
    "    assert table[i]['gaiadr2_source_id'] == table_with_dr2[i]['gaiadr2_source_id']"
   ]
  },
  {
   "cell_type": "code",
   "execution_count": 13,
   "metadata": {},
   "outputs": [],
   "source": [
    "table = table_with_dr2"
   ]
  },
  {
   "cell_type": "code",
   "execution_count": 14,
   "metadata": {},
   "outputs": [],
   "source": [
    "# spectra:\n",
    "table.add_column(Column(name='spectrum_hires', dtype='<U29', length=len(table)))\n",
    "table['spectrum_hires_resolution'] = sample['hires_maxres']\n",
    "table['spectrum_hires_snr'] = sample['hires_maxres_snr']\n",
    "table['spectrum_hires_nobs'] = sample['n_hires_obs_maxres_iodout']"
   ]
  },
  {
   "cell_type": "code",
   "execution_count": 15,
   "metadata": {},
   "outputs": [],
   "source": [
    "# add a link:\n",
    "MIN_SNR = 100 # if combined SNR is below this limit, ignore the spectra\n",
    "table['spectrum_hires'][sample['hires_maxres_snr'] >= MIN_SNR] = 'true'\n",
    "bad = sample['hires_maxres_snr'] < MIN_SNR\n",
    "table['spectrum_hires_resolution'][bad] = 0\n",
    "table['spectrum_hires_nobs'][bad] = 0\n",
    "table['spectrum_hires_snr'][bad] = 0"
   ]
  },
  {
   "cell_type": "code",
   "execution_count": 16,
   "metadata": {},
   "outputs": [
    {
     "data": {
      "text/html": [
       "<i>Table length=10</i>\n",
       "<table id=\"table140656329258896\" class=\"table-striped table-bordered table-condensed\">\n",
       "<thead><tr><th>ra_j2000</th><th>dec_j2000</th><th>primary_name</th><th>gaiadr2_source_id</th><th>gaiaedr3_source_id</th><th>hip</th><th>hd</th><th>tic</th><th>2mass</th><th>wisea</th><th>ra</th><th>ra_error</th><th>dec</th><th>dec_error</th><th>parallax</th><th>parallax_error</th><th>pmra</th><th>pmra_error</th><th>pmdec</th><th>pmdec_error</th><th>gmag</th><th>bp_rp</th><th>radial_velocity</th><th>radial_velocity_error</th><th>ref_epoch</th><th>gaia_teff</th><th>gaia_teff_lower</th><th>gaia_teff_upper</th><th>gaia_radius</th><th>gaia_radius_lower</th><th>gaia_radius_upper</th><th>gaia_lum</th><th>gaia_lum_lower</th><th>gaia_lum_upper</th><th>spectrum_hires</th><th>spectrum_hires_resolution</th><th>spectrum_hires_snr</th><th>spectrum_hires_nobs</th></tr></thead>\n",
       "<thead><tr><th></th><th></th><th></th><th></th><th></th><th></th><th></th><th></th><th></th><th></th><th></th><th></th><th></th><th></th><th></th><th></th><th></th><th></th><th></th><th></th><th></th><th></th><th></th><th></th><th></th><th>K</th><th>K</th><th>K</th><th>Rsun</th><th>Rsun</th><th>Rsun</th><th>Lsun</th><th>Lsun</th><th>Lsun</th><th></th><th></th><th></th><th></th></tr></thead>\n",
       "<thead><tr><th>float64</th><th>float64</th><th>str29</th><th>int64</th><th>int64</th><th>int64</th><th>str7</th><th>int64</th><th>str16</th><th>str19</th><th>float64</th><th>float64</th><th>float64</th><th>float64</th><th>float64</th><th>float64</th><th>float64</th><th>float64</th><th>float64</th><th>float64</th><th>float64</th><th>float64</th><th>float64</th><th>float64</th><th>str7</th><th>float32</th><th>float32</th><th>float32</th><th>float32</th><th>float32</th><th>float32</th><th>float32</th><th>float32</th><th>float32</th><th>str29</th><th>float64</th><th>float64</th><th>int64</th></tr></thead>\n",
       "<tr><td>0.1735187163099</td><td>62.1758995053047</td><td>HD224792</td><td>429915991435184000</td><td>429915991435184000</td><td>58</td><td>224792</td><td>417860263</td><td>00004167+6210331</td><td>J000041.58+621032.9</td><td>0.17307161161</td><td>0.0135</td><td>62.17570631925</td><td>0.0153</td><td>26.1048</td><td>0.0182</td><td>-46.955</td><td>0.017</td><td>-43.467</td><td>0.019</td><td>6.922204</td><td>0.67424</td><td>3.76</td><td>0.27</td><td>J2016.0</td><td>6208.75</td><td>6168.0</td><td>6261.6665</td><td>1.1794982</td><td>1.1596469</td><td>1.1951349</td><td>1.8625417</td><td>1.8590426</td><td>1.8660407</td><td></td><td>0.0</td><td>0.0</td><td>0</td></tr>\n",
       "<tr><td>0.2923327649201</td><td>-0.0761104076889</td><td>HD224839</td><td>2546019543207725440</td><td>2546019543207725440</td><td>93</td><td>224839</td><td>138684373</td><td>00011015-0004338</td><td>J000110.18-000434.6</td><td>0.29252029523</td><td>0.0274</td><td>-0.07639817491</td><td>0.0198</td><td>15.7099</td><td>0.0311</td><td>42.194</td><td>0.038</td><td>-64.748</td><td>0.019</td><td>7.981884</td><td>0.764665</td><td>-3.02</td><td>0.16</td><td>J2016.0</td><td>5793.3003</td><td>5743.0</td><td>5894.0</td><td>1.3951235</td><td>1.347859</td><td>1.419669</td><td>1.9752595</td><td>1.9633069</td><td>1.9872122</td><td></td><td>0.0</td><td>0.0</td><td>0</td></tr>\n",
       "<tr><td>0.4571711894795</td><td>65.4555699380329</td><td>HD224919</td><td>432197890377254528</td><td>432197890377254528</td><td>-1</td><td>224919</td><td>418988281</td><td>00014974+6527200</td><td>J000149.74+652720.6</td><td>0.45736153541</td><td>0.0117</td><td>65.45580468513</td><td>0.012</td><td>15.3692</td><td>0.0151</td><td>17.791</td><td>0.015</td><td>52.818</td><td>0.016</td><td>7.535949</td><td>0.631671</td><td>-29.18</td><td>0.15</td><td>J2016.0</td><td>6340.8335</td><td>6278.5</td><td>6510.25</td><td>1.4473692</td><td>1.3730195</td><td>1.4762511</td><td>3.0509758</td><td>3.041751</td><td>3.0602007</td><td></td><td>0.0</td><td>0.0</td><td>0</td></tr>\n",
       "<tr><td>0.5431196625046</td><td>27.0818330846237</td><td>85 Peg</td><td>2853900872207150720</td><td>2853900872207888768</td><td>-1</td><td>224930</td><td>611726941</td><td>--</td><td>--</td><td>0.54669605643</td><td>0.2633</td><td>27.07764869795</td><td>0.2213</td><td>81.179</td><td>0.449</td><td>716.46</td><td>0.452</td><td>-941.497</td><td>0.242</td><td>5.595876</td><td>0.929018</td><td>-35.57</td><td>0.35</td><td>J2016.0</td><td>5570.0</td><td>5410.6665</td><td>6035.0</td><td>0.93720734</td><td>0.7983467</td><td>0.9932179</td><td>0.7617051</td><td>0.75543445</td><td>0.76797575</td><td>true</td><td>71600.0</td><td>255.58364579917864</td><td>7</td></tr>\n",
       "<tr><td>0.6965612550145</td><td>2.1301527341538</td><td>HD225028A</td><td>2739059700184753280</td><td>2739059700184753280</td><td>-1</td><td>225028A</td><td>611064061</td><td>--</td><td>--</td><td>0.69683851342</td><td>0.0193</td><td>2.12973783087</td><td>0.0154</td><td>23.3713</td><td>0.0233</td><td>62.34</td><td>0.028</td><td>-93.353</td><td>0.015</td><td>7.213268</td><td>0.799183</td><td>-2.54</td><td>0.19</td><td>J2016.0</td><td>5673.555</td><td>5333.675</td><td>6196.967</td><td>1.4055437</td><td>1.1781391</td><td>1.5903834</td><td>1.8441851</td><td>1.8386022</td><td>1.849768</td><td></td><td>0.0</td><td>0.0</td><td>0</td></tr>\n",
       "<tr><td>0.8580574171151</td><td>20.6655286255845</td><td>HD225097</td><td>2846469822870413696</td><td>2846469822870413696</td><td>276</td><td>225097</td><td>238301314</td><td>00032593+2039561</td><td>J000325.97+203954.3</td><td>0.85833620764</td><td>0.144</td><td>20.66483347784</td><td>0.185</td><td>14.5756</td><td>0.225</td><td>58.692</td><td>0.187</td><td>-156.408</td><td>0.236</td><td>7.341593</td><td>0.79231</td><td>-31.51</td><td>0.4</td><td>J2016.0</td><td>5847.0</td><td>5717.5</td><td>5932.0</td><td>1.8799559</td><td>1.8264658</td><td>1.9660815</td><td>3.7215376</td><td>3.6197815</td><td>3.8232937</td><td></td><td>0.0</td><td>0.0</td><td>0</td></tr>\n",
       "<tr><td>1.2346725514673</td><td>23.2696293916025</td><td>HD225261</td><td>2848150288954631296</td><td>2848150288954631296</td><td>400</td><td>225261</td><td>258866681</td><td>00045634+2316106</td><td>--</td><td>1.23652388841</td><td>0.0188</td><td>23.26959631737</td><td>0.0219</td><td>37.9297</td><td>0.0258</td><td>382.667</td><td>0.024</td><td>-7.444</td><td>0.029</td><td>7.624367</td><td>0.940167</td><td>7.51</td><td>0.16</td><td>J2016.0</td><td>5313.75</td><td>5286.5</td><td>5386.0</td><td>0.8244969</td><td>0.802525</td><td>0.8330188</td><td>0.48828933</td><td>0.48727214</td><td>0.4893065</td><td>true</td><td>71700.0</td><td>133.9328189802634</td><td>2</td></tr>\n",
       "<tr><td>1.2396804613202</td><td>45.6737925276659</td><td>Gaia EDR3 386648181647057152</td><td>386648181647057152</td><td>386648181647057152</td><td>404</td><td>--</td><td>439946040</td><td>00045752+4540257</td><td>J000457.52+454025.5</td><td>1.23979666771</td><td>0.0154</td><td>45.67350137279</td><td>0.012</td><td>13.6393</td><td>0.0222</td><td>18.27</td><td>0.019</td><td>-65.51</td><td>0.016</td><td>7.438472</td><td>0.694592</td><td>-17.15</td><td>0.16</td><td>J2016.0</td><td>6140.0</td><td>6086.0</td><td>6194.0</td><td>1.8144845</td><td>1.7829846</td><td>1.8468266</td><td>4.215749</td><td>4.194839</td><td>4.2366586</td><td>true</td><td>71600.0</td><td>261.48613729985766</td><td>5</td></tr>\n",
       "<tr><td>1.3798428459156</td><td>-9.6174575097273</td><td>HD63</td><td>2428706669045383808</td><td>2428706669045383808</td><td>462</td><td>63</td><td>176285709</td><td>00053115-0937028</td><td>J000531.22-093703.7</td><td>1.38022917866</td><td>0.0325</td><td>-9.61779490682</td><td>0.0212</td><td>20.1669</td><td>0.036</td><td>85.703</td><td>0.041</td><td>-75.914</td><td>0.024</td><td>7.020907</td><td>0.603799</td><td>0.44</td><td>0.31</td><td>J2016.0</td><td>6450.0</td><td>6243.725</td><td>6522.0</td><td>1.3548838</td><td>1.3251343</td><td>1.4458857</td><td>2.8624485</td><td>2.8524468</td><td>2.87245</td><td></td><td>0.0</td><td>0.0</td><td>0</td></tr>\n",
       "<tr><td>1.4781193154309</td><td>18.2350073192759</td><td>HD101</td><td>2797111130991722240</td><td>2797111130991722240</td><td>493</td><td>101</td><td>258868211</td><td>00055473+1814058</td><td>J000554.64+181404.4</td><td>1.47741339646</td><td>0.0232</td><td>18.2343496415</td><td>0.0203</td><td>26.6978</td><td>0.0286</td><td>-150.855</td><td>0.027</td><td>-147.978</td><td>0.027</td><td>7.318629</td><td>0.741892</td><td>-45.7</td><td>0.16</td><td>J2016.0</td><td>5934.0</td><td>5906.5</td><td>5982.25</td><td>1.0533948</td><td>1.0364709</td><td>1.0632266</td><td>1.239559</td><td>1.2352648</td><td>1.2438533</td><td></td><td>0.0</td><td>0.0</td><td>0</td></tr>\n",
       "</table>"
      ],
      "text/plain": [
       "<Table length=10>\n",
       "    ra_j2000       dec_j2000     ... spectrum_hires_snr spectrum_hires_nobs\n",
       "                                 ...                                       \n",
       "    float64         float64      ...      float64              int64       \n",
       "--------------- ---------------- ... ------------------ -------------------\n",
       "0.1735187163099 62.1758995053047 ...                0.0                   0\n",
       "0.2923327649201 -0.0761104076889 ...                0.0                   0\n",
       "0.4571711894795 65.4555699380329 ...                0.0                   0\n",
       "0.5431196625046 27.0818330846237 ... 255.58364579917864                   7\n",
       "0.6965612550145  2.1301527341538 ...                0.0                   0\n",
       "0.8580574171151 20.6655286255845 ...                0.0                   0\n",
       "1.2346725514673 23.2696293916025 ...  133.9328189802634                   2\n",
       "1.2396804613202 45.6737925276659 ... 261.48613729985766                   5\n",
       "1.3798428459156 -9.6174575097273 ...                0.0                   0\n",
       "1.4781193154309 18.2350073192759 ...                0.0                   0"
      ]
     },
     "execution_count": 16,
     "metadata": {},
     "output_type": "execute_result"
    }
   ],
   "source": [
    "table[0:10]"
   ]
  },
  {
   "cell_type": "code",
   "execution_count": 17,
   "metadata": {},
   "outputs": [],
   "source": [
    "table.write('Gr8stars_GaiaeDR3_formatted.csv', overwrite=True)"
   ]
  },
  {
   "cell_type": "code",
   "execution_count": null,
   "metadata": {},
   "outputs": [],
   "source": []
  }
 ],
 "metadata": {
  "kernelspec": {
   "display_name": "gr8stars",
   "language": "python",
   "name": "gr8stars"
  },
  "language_info": {
   "codemirror_mode": {
    "name": "ipython",
    "version": 3
   },
   "file_extension": ".py",
   "mimetype": "text/x-python",
   "name": "python",
   "nbconvert_exporter": "python",
   "pygments_lexer": "ipython3",
   "version": "3.7.8"
  }
 },
 "nbformat": 4,
 "nbformat_minor": 4
}
